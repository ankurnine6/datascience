{
  "nbformat": 4,
  "nbformat_minor": 0,
  "metadata": {
    "colab": {
      "name": "datascience.ipynb",
      "version": "0.3.2",
      "provenance": [],
      "collapsed_sections": [
        "OLPp8827qxx5",
        "eyOhSN5gK2Jx",
        "gb-lqmgr3QOm",
        "_PzQx4ZWKaXA",
        "V9-CSkGVLQI9",
        "gSNt_FtZ9tq2"
      ]
    },
    "kernelspec": {
      "name": "python3",
      "display_name": "Python 3"
    }
  },
  "cells": [
    {
      "cell_type": "markdown",
      "metadata": {
        "id": "L5r5D_qMlz-4",
        "colab_type": "text"
      },
      "source": [
        "**Data science** "
      ]
    },
    {
      "cell_type": "markdown",
      "metadata": {
        "id": "OLPp8827qxx5",
        "colab_type": "text"
      },
      "source": [
        "#### Download data"
      ]
    },
    {
      "cell_type": "code",
      "metadata": {
        "id": "OzvLXVX4J9hr",
        "colab_type": "code",
        "outputId": "9951868d-9acb-42ea-a947-7c7ee0079be5",
        "colab": {
          "base_uri": "https://localhost:8080/"
        }
      },
      "source": [
        "!wget --header=\"Host: doc-14-80-docs.googleusercontent.com\" --header=\"User-Agent: Mozilla/5.0 (Windows NT 6.1; Win64; x64) AppleWebKit/537.36 (KHTML, like Gecko) Chrome/74.0.3729.108 Safari/537.36\" --header=\"Accept: text/html,application/xhtml+xml,application/xml;q=0.9,image/webp,image/apng,*/*;q=0.8,application/signed-exchange;v=b3\" --header=\"Accept-Language: en-US,en;q=0.9\" --header=\"Referer: https://drive.google.com/uc?id=1s1v0c2iOg-RgqwCykSMPt1-HqPv_3nmr&export=download\" --header=\"Cookie: AUTH_bbgisrjd8bh8hpacul6ehoeo57pe3ls5_nonce=6krp8ihqu12pk\" --header=\"Connection: keep-alive\" \"https://doc-14-80-docs.googleusercontent.com/docs/securesc/mei7dm6hud0723bm1f9k9h0820psmb7u/edk33lvieccucmgpk7vr049gohsalmpp/1556208000000/17537862225010809205/07269277556108957290/1s1v0c2iOg-RgqwCykSMPt1-HqPv_3nmr?e=download&nonce=6krp8ihqu12pk&user=07269277556108957290&hash=oh55f8ov5oncque52suh5k9dcgpcq2f8\" -O \"data_science_assignment.txt\" -c"
      ],
      "execution_count": 0,
      "outputs": [
        {
          "output_type": "stream",
          "text": [
            "--2019-04-25 17:45:28--  https://doc-14-80-docs.googleusercontent.com/docs/securesc/mei7dm6hud0723bm1f9k9h0820psmb7u/edk33lvieccucmgpk7vr049gohsalmpp/1556208000000/17537862225010809205/07269277556108957290/1s1v0c2iOg-RgqwCykSMPt1-HqPv_3nmr?e=download&nonce=6krp8ihqu12pk&user=07269277556108957290&hash=oh55f8ov5oncque52suh5k9dcgpcq2f8\n",
            "Resolving doc-14-80-docs.googleusercontent.com (doc-14-80-docs.googleusercontent.com)... 74.125.141.132, 2607:f8b0:400c:c06::84\n",
            "Connecting to doc-14-80-docs.googleusercontent.com (doc-14-80-docs.googleusercontent.com)|74.125.141.132|:443... connected.\n",
            "HTTP request sent, awaiting response... 416 Requested range not satisfiable\n",
            "\n",
            "    The file is already fully retrieved; nothing to do.\n",
            "\n"
          ],
          "name": "stdout"
        }
      ]
    },
    {
      "cell_type": "code",
      "metadata": {
        "id": "wjPX03Vvl8Kc",
        "colab_type": "code",
        "outputId": "2bc89c78-6fe2-404b-8f11-538e8dc77b06",
        "colab": {
          "base_uri": "https://localhost:8080/"
        }
      },
      "source": [
        "!pip install validator_collection"
      ],
      "execution_count": 0,
      "outputs": [
        {
          "output_type": "stream",
          "text": [
            "Requirement already satisfied: validator_collection in /usr/local/lib/python3.6/dist-packages (1.3.4)\n",
            "Requirement already satisfied: jsonschema in /usr/local/lib/python3.6/dist-packages (from validator_collection) (2.6.0)\n"
          ],
          "name": "stdout"
        }
      ]
    },
    {
      "cell_type": "markdown",
      "metadata": {
        "id": "eyOhSN5gK2Jx",
        "colab_type": "text"
      },
      "source": [
        "####loading data"
      ]
    },
    {
      "cell_type": "code",
      "metadata": {
        "id": "pQJVIbHSPqPv",
        "colab_type": "code",
        "colab": {}
      },
      "source": [
        "import pandas as pd\n",
        "import re\n",
        "from tqdm import tqdm\n",
        "from validator_collection import validators, checkers\n",
        "import numpy as np\n",
        "import math\n",
        "import json\n",
        "import seaborn as sns\n",
        "import matplotlib.mlab as mlab\n",
        "import matplotlib.pyplot as plt"
      ],
      "execution_count": 0,
      "outputs": []
    },
    {
      "cell_type": "code",
      "metadata": {
        "id": "37diU_vJPqXw",
        "colab_type": "code",
        "colab": {}
      },
      "source": [
        "data = pd.read_csv('data_science_assignment.txt' ,sep=\"|\" , skiprows = [1,2,3,4,5,6,7,8,9,10,11,12,13,14,15,16,17,18,19,20,21,22,23,24,25,26,27,28,29,30,31,32],header =[2],low_memory=False)"
      ],
      "execution_count": 0,
      "outputs": []
    },
    {
      "cell_type": "code",
      "metadata": {
        "id": "KgUHzi_d5MDr",
        "colab_type": "code",
        "outputId": "3f1a0ff7-db3b-4035-fad0-ebbc809522dd",
        "colab": {
          "base_uri": "https://localhost:8080/"
        }
      },
      "source": [
        "data.columns"
      ],
      "execution_count": 0,
      "outputs": [
        {
          "output_type": "execute_result",
          "data": {
            "text/plain": [
              "Index(['2', 'Unnamed: 1', 'ObjectId(5ba20a59c423de434b232c36)',\n",
              "       'COLOR-2393036',\n",
              "       'https://www.hervis.at/store/Bekleidung/W%C3%A4sche/Unterhosen/Odlo/Panty-Ceramicool/p/COLOR-2393036',\n",
              "       'panty ceramicool', '{\"name\":\"odlo\",\"sub_brand\":\"\"}',\n",
              "       '[\"XS\",\"S\",\"M\",\"L\",\"XL\"]',\n",
              "       '{\"standard\":[{\"order\":1,\"url\":\"https://cdn.hervis.at/medias/sys_master/images/images/h5e/he8/10884832198686/Odlo-Panty-Ceramicool-2393036-00-138429.jpg\"}],\"large\":[{\"order\":1,\"url\":\"https://cdn.hervis.at/medias/sys_master/images/images/h51/hc5/10884858249246/Odlo-Panty-Ceramicool-2393036-00-138429.jpg\"}]}',\n",
              "       'ceramicool pro provides excellent ventilation through intelligent mesh positioning  technology / material combination of ceramicool technology and intelligent mesh positioning for optimal climate regulation equipment narrow fit soft grip function excellent ventilation through intelligent mesh positioning flat overlock stitching fresh performance-oriented look natural antibacterial effect other upf 25+ (thanks to unique polymer titanium dioxide) ceramicool 180 g mesh insert 135 g ',\n",
              "       '{\"watch_strap_type\":\"mesh\",\"material\":{\"name\":\"\",\"composition\":[]},\"clothing_strap_type\":\"flat\"}',\n",
              "       '{\"offer_price\": {\"currency\": \"EUR\", \"value\": 999.0}, \"regular_price\": {\"currency\": \"EUR\", \"value\": 24.99}}',\n",
              "       '[{\"size\":{\"value\":\"XS\"},\"stock\":{\"text\":\"\",\"available\":false}},{\"size\":{\"value\":\"S\"},\"stock\":{\"text\":\"\",\"available\":false}},{\"size\":{\"value\":\"M\"},\"stock\":{\"text\":\"\",\"available\":false}},{\"size\":{\"value\":\"L\"},\"stock\":{\"text\":\"\",\"available\":false}},{\"size\":{\"value\":\"XL\"},\"stock\":{\"text\":\"\",\"available\":false}}]',\n",
              "       '{\"l1\":\"clothing\",\"l2\":\"sportswear\",\"l3\":\"sports laundry\",\"l4\":\"sports underwear\"}',\n",
              "       '2018-09-20T00:00:59.000Z', '2019-03-29T07:18:46.483Z'],\n",
              "      dtype='object')"
            ]
          },
          "metadata": {
            "tags": []
          },
          "execution_count": 527
        }
      ]
    },
    {
      "cell_type": "code",
      "metadata": {
        "id": "1ctF9GRgVJBT",
        "colab_type": "code",
        "outputId": "5b5bf102-e376-44fb-ed65-9c1d89592ad1",
        "colab": {
          "base_uri": "https://localhost:8080/"
        }
      },
      "source": [
        "data.shape"
      ],
      "execution_count": 0,
      "outputs": [
        {
          "output_type": "execute_result",
          "data": {
            "text/plain": [
              "(221452, 16)"
            ]
          },
          "metadata": {
            "tags": []
          },
          "execution_count": 528
        }
      ]
    },
    {
      "cell_type": "code",
      "metadata": {
        "id": "aEEI6BLjW0in",
        "colab_type": "code",
        "outputId": "dac64a61-7568-4552-aff3-cb9e367b14c9",
        "colab": {
          "base_uri": "https://localhost:8080/"
        }
      },
      "source": [
        "data.head(5)"
      ],
      "execution_count": 0,
      "outputs": [
        {
          "output_type": "execute_result",
          "data": {
            "text/html": [
              "<div>\n",
              "<style scoped>\n",
              "    .dataframe tbody tr th:only-of-type {\n",
              "        vertical-align: middle;\n",
              "    }\n",
              "\n",
              "    .dataframe tbody tr th {\n",
              "        vertical-align: top;\n",
              "    }\n",
              "\n",
              "    .dataframe thead th {\n",
              "        text-align: right;\n",
              "    }\n",
              "</style>\n",
              "<table border=\"1\" class=\"dataframe\">\n",
              "  <thead>\n",
              "    <tr style=\"text-align: right;\">\n",
              "      <th></th>\n",
              "      <th>2</th>\n",
              "      <th>Unnamed: 1</th>\n",
              "      <th>ObjectId(5ba20a59c423de434b232c36)</th>\n",
              "      <th>COLOR-2393036</th>\n",
              "      <th>https://www.hervis.at/store/Bekleidung/W%C3%A4sche/Unterhosen/Odlo/Panty-Ceramicool/p/COLOR-2393036</th>\n",
              "      <th>panty ceramicool</th>\n",
              "      <th>{\"name\":\"odlo\",\"sub_brand\":\"\"}</th>\n",
              "      <th>[\"XS\",\"S\",\"M\",\"L\",\"XL\"]</th>\n",
              "      <th>{\"standard\":[{\"order\":1,\"url\":\"https://cdn.hervis.at/medias/sys_master/images/images/h5e/he8/10884832198686/Odlo-Panty-Ceramicool-2393036-00-138429.jpg\"}],\"large\":[{\"order\":1,\"url\":\"https://cdn.hervis.at/medias/sys_master/images/images/h51/hc5/10884858249246/Odlo-Panty-Ceramicool-2393036-00-138429.jpg\"}]}</th>\n",
              "      <th>ceramicool pro provides excellent ventilation through intelligent mesh positioning  technology / material combination of ceramicool technology and intelligent mesh positioning for optimal climate regulation equipment narrow fit soft grip function excellent ventilation through intelligent mesh positioning flat overlock stitching fresh performance-oriented look natural antibacterial effect other upf 25+ (thanks to unique polymer titanium dioxide) ceramicool 180 g mesh insert 135 g</th>\n",
              "      <th>{\"watch_strap_type\":\"mesh\",\"material\":{\"name\":\"\",\"composition\":[]},\"clothing_strap_type\":\"flat\"}</th>\n",
              "      <th>{\"offer_price\": {\"currency\": \"EUR\", \"value\": 999.0}, \"regular_price\": {\"currency\": \"EUR\", \"value\": 24.99}}</th>\n",
              "      <th>[{\"size\":{\"value\":\"XS\"},\"stock\":{\"text\":\"\",\"available\":false}},{\"size\":{\"value\":\"S\"},\"stock\":{\"text\":\"\",\"available\":false}},{\"size\":{\"value\":\"M\"},\"stock\":{\"text\":\"\",\"available\":false}},{\"size\":{\"value\":\"L\"},\"stock\":{\"text\":\"\",\"available\":false}},{\"size\":{\"value\":\"XL\"},\"stock\":{\"text\":\"\",\"available\":false}}]</th>\n",
              "      <th>{\"l1\":\"clothing\",\"l2\":\"sportswear\",\"l3\":\"sports laundry\",\"l4\":\"sports underwear\"}</th>\n",
              "      <th>2018-09-20T00:00:59.000Z</th>\n",
              "      <th>2019-03-29T07:18:46.483Z</th>\n",
              "    </tr>\n",
              "  </thead>\n",
              "  <tbody>\n",
              "    <tr>\n",
              "      <th>0</th>\n",
              "      <td>3</td>\n",
              "      <td>ObjectId(5ba635b2ccb9258209cd2ba3)</td>\n",
              "      <td>ObjectId(5ba20a59c423de434b232c36)</td>\n",
              "      <td>COLOR-2302890</td>\n",
              "      <td>https://www.hervis</td>\n",
              "      <td>quincy</td>\n",
              "      <td>{\"name\":\"kilimanjaro\",\"sub_brand\":\"\"}</td>\n",
              "      <td>[\"46\",\"48\",\"50\",\"52\",\"54\",\"56\"]</td>\n",
              "      <td>{\"standard\":[{\"order\":1,\"url\":\"https://cdn.her...</td>\n",
              "      <td>men's hiking pants made of windproof softshell...</td>\n",
              "      <td>{\"gender\":[\"male\"],\"sports\":\"hiking\",\"cloth_te...</td>\n",
              "      <td>{\"offer_price\":{\"currency\":\"EUR\",\"value\":39.99...</td>\n",
              "      <td>[{\"size\":{\"value\":\"46\"},\"stock\":{\"text\":\"\",\"av...</td>\n",
              "      <td>{\"l1\":\"clothing\",\"l2\":\"sportswear\",\"l3\":\"botto...</td>\n",
              "      <td>2018-09-20T00:00:59.000Z</td>\n",
              "      <td>2019-03-29T07:25:35.711Z</td>\n",
              "    </tr>\n",
              "    <tr>\n",
              "      <th>1</th>\n",
              "      <td>4</td>\n",
              "      <td>NaN</td>\n",
              "      <td>ObjectId(5ba20a59c423de434b232c36)</td>\n",
              "      <td>COLOR-2400081</td>\n",
              "      <td>https://www.hervis.at/store/Bekleidung/W%C3%A4...</td>\n",
              "      <td>boxer ceramicool for</td>\n",
              "      <td>{\"name\":\"odlo\",\"sub_brand\":\"\"}</td>\n",
              "      <td>[\"S\",\"M\",\"L\",\"XL\",\"XXL\"]</td>\n",
              "      <td>{\"standard\":[{\"order\":1,\"url\":\"https://cdn.her...</td>\n",
              "      <td>boxer ceramicool pro with the first active coo...</td>\n",
              "      <td>{\"occasion\":\"active\",\"watch_strap_type\":\"mesh\"...</td>\n",
              "      <td>{\"offer_price\":{\"currency\":\"EUR\",\"value\":19.99...</td>\n",
              "      <td>[{\"size\":{\"value\":\"S\"},\"stock\":{\"text\":\"\",\"ava...</td>\n",
              "      <td>{\"l1\":\"clothing\",\"l2\":\"sportswear\",\"l3\":\"sport...</td>\n",
              "      <td>2018-09-20T00:00:59.000Z</td>\n",
              "      <td>2019-03-29T07:18:47.710Z</td>\n",
              "    </tr>\n",
              "    <tr>\n",
              "      <th>2</th>\n",
              "      <td>5</td>\n",
              "      <td>NaN</td>\n",
              "      <td>ObjectId(5ba20a59c423de434b232c36)</td>\n",
              "      <td>COLOR-2423917</td>\n",
              "      <td>https://www.hervis</td>\n",
              "      <td>evolution light baselayer tanktop</td>\n",
              "      <td>{\"name\":\"odlo\",\"sub_brand\":\"\"}</td>\n",
              "      <td>[\"XS\",\"S\",\"M\",\"L\",\"XL\"]</td>\n",
              "      <td>{\"standard\":[{\"order\":1,\"url\":\"https://cdn.her...</td>\n",
              "      <td>this baselayer tanktop for women is suitable a...</td>\n",
              "      <td>{\"gender\":[\"female\"],\"special_group\":\"activewe...</td>\n",
              "      <td>{\"offer_price\":{\"currency\":\"EUR\",\"value\":24.49...</td>\n",
              "      <td>[{\"size\":{\"value\":\"XS\"},\"stock\":{\"text\":\"\",\"av...</td>\n",
              "      <td>{\"l1\":\"clothing\",\"l2\":\"laundry\",\"l3\":\"topwear\"...</td>\n",
              "      <td>2018-09-20T00:00:59.000Z</td>\n",
              "      <td>2018-10-30T04:04:15.449Z</td>\n",
              "    </tr>\n",
              "    <tr>\n",
              "      <th>3</th>\n",
              "      <td>6</td>\n",
              "      <td>ObjectId(5ba635b8ccb9258209cd2ba6)</td>\n",
              "      <td>ObjectId(5ba20a59c423de434b232c36)</td>\n",
              "      <td>COLOR-2260895</td>\n",
              "      <td>https://www.hervis</td>\n",
              "      <td>print sweatshirt</td>\n",
              "      <td>{\"name\":\"jack \\u0026 jones\",\"sub_brand\":\"\"}</td>\n",
              "      <td>[\"S\",\"M\",\"L\",\"XL\",\"XXL\"]</td>\n",
              "      <td>{\"standard\":[{\"order\":1,\"url\":\"https://cdn.her...</td>\n",
              "      <td>a classic sweat-hoodie with fresh details like...</td>\n",
              "      <td>{\"aesthetics\":\"classic\",\"bag_closure_type\":\"dr...</td>\n",
              "      <td>{\"offer_price\": {\"currency\": \"EUR\", \"value\": 9...</td>\n",
              "      <td>[{\"size\":{\"value\":\"S\"},\"stock\":{\"text\":\"\",\"ava...</td>\n",
              "      <td>{\"l1\":\"clothing\",\"l2\":\"outerwear\",\"l3\":\"sweats...</td>\n",
              "      <td>2018-09-20T00:00:59.000Z</td>\n",
              "      <td>2018-11-09T06:28:42.741Z</td>\n",
              "    </tr>\n",
              "    <tr>\n",
              "      <th>4</th>\n",
              "      <td>7</td>\n",
              "      <td>NaN</td>\n",
              "      <td>ObjectId(5ba20a59c423de434b232c36)</td>\n",
              "      <td>COLOR-2423048</td>\n",
              "      <td>https://www.hervis.at/store/Bekleidung/Shirts/...</td>\n",
              "      <td>cardada polo shirt</td>\n",
              "      <td>{\"name\":\"odlo\",\"sub_brand\":\"\"}</td>\n",
              "      <td>[\"S\",\"M\",\"L\",\"XL\",\"XXL\",\"XXXL\"]</td>\n",
              "      <td>{\"standard\":[{\"order\":1,\"url\":\"https://cdn.her...</td>\n",
              "      <td>quick-drying men's cardada polo shirt with a f...</td>\n",
              "      <td>{\"top_type\":\"polo\",\"gender\":[\"male\"],\"occasion...</td>\n",
              "      <td>{\"offer_price\": {\"currency\": \"EUR\", \"value\": 9...</td>\n",
              "      <td>[{\"size\":{\"value\":\"S\"},\"stock\":{\"text\":\"\",\"ava...</td>\n",
              "      <td>{\"l1\":\"clothing\",\"l2\":\"tops and tees and shirt...</td>\n",
              "      <td>2018-09-20T00:00:59.000Z</td>\n",
              "      <td>2019-03-29T07:19:19.311Z</td>\n",
              "    </tr>\n",
              "  </tbody>\n",
              "</table>\n",
              "</div>"
            ],
            "text/plain": [
              "   2                          Unnamed: 1  ObjectId(5ba20a59c423de434b232c36)  \\\n",
              "0  3  ObjectId(5ba635b2ccb9258209cd2ba3)  ObjectId(5ba20a59c423de434b232c36)   \n",
              "1  4                                 NaN  ObjectId(5ba20a59c423de434b232c36)   \n",
              "2  5                                 NaN  ObjectId(5ba20a59c423de434b232c36)   \n",
              "3  6  ObjectId(5ba635b8ccb9258209cd2ba6)  ObjectId(5ba20a59c423de434b232c36)   \n",
              "4  7                                 NaN  ObjectId(5ba20a59c423de434b232c36)   \n",
              "\n",
              "   COLOR-2393036  \\\n",
              "0  COLOR-2302890   \n",
              "1  COLOR-2400081   \n",
              "2  COLOR-2423917   \n",
              "3  COLOR-2260895   \n",
              "4  COLOR-2423048   \n",
              "\n",
              "  https://www.hervis.at/store/Bekleidung/W%C3%A4sche/Unterhosen/Odlo/Panty-Ceramicool/p/COLOR-2393036  \\\n",
              "0                                 https://www.hervis                                                    \n",
              "1  https://www.hervis.at/store/Bekleidung/W%C3%A4...                                                    \n",
              "2                                 https://www.hervis                                                    \n",
              "3                                 https://www.hervis                                                    \n",
              "4  https://www.hervis.at/store/Bekleidung/Shirts/...                                                    \n",
              "\n",
              "                    panty ceramicool  \\\n",
              "0                             quincy   \n",
              "1               boxer ceramicool for   \n",
              "2  evolution light baselayer tanktop   \n",
              "3                   print sweatshirt   \n",
              "4                 cardada polo shirt   \n",
              "\n",
              "                {\"name\":\"odlo\",\"sub_brand\":\"\"}  \\\n",
              "0        {\"name\":\"kilimanjaro\",\"sub_brand\":\"\"}   \n",
              "1               {\"name\":\"odlo\",\"sub_brand\":\"\"}   \n",
              "2               {\"name\":\"odlo\",\"sub_brand\":\"\"}   \n",
              "3  {\"name\":\"jack \\u0026 jones\",\"sub_brand\":\"\"}   \n",
              "4               {\"name\":\"odlo\",\"sub_brand\":\"\"}   \n",
              "\n",
              "           [\"XS\",\"S\",\"M\",\"L\",\"XL\"]  \\\n",
              "0  [\"46\",\"48\",\"50\",\"52\",\"54\",\"56\"]   \n",
              "1         [\"S\",\"M\",\"L\",\"XL\",\"XXL\"]   \n",
              "2          [\"XS\",\"S\",\"M\",\"L\",\"XL\"]   \n",
              "3         [\"S\",\"M\",\"L\",\"XL\",\"XXL\"]   \n",
              "4  [\"S\",\"M\",\"L\",\"XL\",\"XXL\",\"XXXL\"]   \n",
              "\n",
              "  {\"standard\":[{\"order\":1,\"url\":\"https://cdn.hervis.at/medias/sys_master/images/images/h5e/he8/10884832198686/Odlo-Panty-Ceramicool-2393036-00-138429.jpg\"}],\"large\":[{\"order\":1,\"url\":\"https://cdn.hervis.at/medias/sys_master/images/images/h51/hc5/10884858249246/Odlo-Panty-Ceramicool-2393036-00-138429.jpg\"}]}  \\\n",
              "0  {\"standard\":[{\"order\":1,\"url\":\"https://cdn.her...                                                                                                                                                                                                                                                                   \n",
              "1  {\"standard\":[{\"order\":1,\"url\":\"https://cdn.her...                                                                                                                                                                                                                                                                   \n",
              "2  {\"standard\":[{\"order\":1,\"url\":\"https://cdn.her...                                                                                                                                                                                                                                                                   \n",
              "3  {\"standard\":[{\"order\":1,\"url\":\"https://cdn.her...                                                                                                                                                                                                                                                                   \n",
              "4  {\"standard\":[{\"order\":1,\"url\":\"https://cdn.her...                                                                                                                                                                                                                                                                   \n",
              "\n",
              "  ceramicool pro provides excellent ventilation through intelligent mesh positioning  technology / material combination of ceramicool technology and intelligent mesh positioning for optimal climate regulation equipment narrow fit soft grip function excellent ventilation through intelligent mesh positioning flat overlock stitching fresh performance-oriented look natural antibacterial effect other upf 25+ (thanks to unique polymer titanium dioxide) ceramicool 180 g mesh insert 135 g   \\\n",
              "0  men's hiking pants made of windproof softshell...                                                                                                                                                                                                                                                                                                                                                                                                                                                     \n",
              "1  boxer ceramicool pro with the first active coo...                                                                                                                                                                                                                                                                                                                                                                                                                                                     \n",
              "2  this baselayer tanktop for women is suitable a...                                                                                                                                                                                                                                                                                                                                                                                                                                                     \n",
              "3  a classic sweat-hoodie with fresh details like...                                                                                                                                                                                                                                                                                                                                                                                                                                                     \n",
              "4  quick-drying men's cardada polo shirt with a f...                                                                                                                                                                                                                                                                                                                                                                                                                                                     \n",
              "\n",
              "  {\"watch_strap_type\":\"mesh\",\"material\":{\"name\":\"\",\"composition\":[]},\"clothing_strap_type\":\"flat\"}  \\\n",
              "0  {\"gender\":[\"male\"],\"sports\":\"hiking\",\"cloth_te...                                                 \n",
              "1  {\"occasion\":\"active\",\"watch_strap_type\":\"mesh\"...                                                 \n",
              "2  {\"gender\":[\"female\"],\"special_group\":\"activewe...                                                 \n",
              "3  {\"aesthetics\":\"classic\",\"bag_closure_type\":\"dr...                                                 \n",
              "4  {\"top_type\":\"polo\",\"gender\":[\"male\"],\"occasion...                                                 \n",
              "\n",
              "  {\"offer_price\": {\"currency\": \"EUR\", \"value\": 999.0}, \"regular_price\": {\"currency\": \"EUR\", \"value\": 24.99}}  \\\n",
              "0  {\"offer_price\":{\"currency\":\"EUR\",\"value\":39.99...                                                           \n",
              "1  {\"offer_price\":{\"currency\":\"EUR\",\"value\":19.99...                                                           \n",
              "2  {\"offer_price\":{\"currency\":\"EUR\",\"value\":24.49...                                                           \n",
              "3  {\"offer_price\": {\"currency\": \"EUR\", \"value\": 9...                                                           \n",
              "4  {\"offer_price\": {\"currency\": \"EUR\", \"value\": 9...                                                           \n",
              "\n",
              "  [{\"size\":{\"value\":\"XS\"},\"stock\":{\"text\":\"\",\"available\":false}},{\"size\":{\"value\":\"S\"},\"stock\":{\"text\":\"\",\"available\":false}},{\"size\":{\"value\":\"M\"},\"stock\":{\"text\":\"\",\"available\":false}},{\"size\":{\"value\":\"L\"},\"stock\":{\"text\":\"\",\"available\":false}},{\"size\":{\"value\":\"XL\"},\"stock\":{\"text\":\"\",\"available\":false}}]  \\\n",
              "0  [{\"size\":{\"value\":\"46\"},\"stock\":{\"text\":\"\",\"av...                                                                                                                                                                                                                                                                     \n",
              "1  [{\"size\":{\"value\":\"S\"},\"stock\":{\"text\":\"\",\"ava...                                                                                                                                                                                                                                                                     \n",
              "2  [{\"size\":{\"value\":\"XS\"},\"stock\":{\"text\":\"\",\"av...                                                                                                                                                                                                                                                                     \n",
              "3  [{\"size\":{\"value\":\"S\"},\"stock\":{\"text\":\"\",\"ava...                                                                                                                                                                                                                                                                     \n",
              "4  [{\"size\":{\"value\":\"S\"},\"stock\":{\"text\":\"\",\"ava...                                                                                                                                                                                                                                                                     \n",
              "\n",
              "  {\"l1\":\"clothing\",\"l2\":\"sportswear\",\"l3\":\"sports laundry\",\"l4\":\"sports underwear\"}  \\\n",
              "0  {\"l1\":\"clothing\",\"l2\":\"sportswear\",\"l3\":\"botto...                                  \n",
              "1  {\"l1\":\"clothing\",\"l2\":\"sportswear\",\"l3\":\"sport...                                  \n",
              "2  {\"l1\":\"clothing\",\"l2\":\"laundry\",\"l3\":\"topwear\"...                                  \n",
              "3  {\"l1\":\"clothing\",\"l2\":\"outerwear\",\"l3\":\"sweats...                                  \n",
              "4  {\"l1\":\"clothing\",\"l2\":\"tops and tees and shirt...                                  \n",
              "\n",
              "   2018-09-20T00:00:59.000Z  2019-03-29T07:18:46.483Z  \n",
              "0  2018-09-20T00:00:59.000Z  2019-03-29T07:25:35.711Z  \n",
              "1  2018-09-20T00:00:59.000Z  2019-03-29T07:18:47.710Z  \n",
              "2  2018-09-20T00:00:59.000Z  2018-10-30T04:04:15.449Z  \n",
              "3  2018-09-20T00:00:59.000Z  2018-11-09T06:28:42.741Z  \n",
              "4  2018-09-20T00:00:59.000Z  2019-03-29T07:19:19.311Z  "
            ]
          },
          "metadata": {
            "tags": []
          },
          "execution_count": 529
        }
      ]
    },
    {
      "cell_type": "code",
      "metadata": {
        "id": "_Ha96f5oPqkG",
        "colab_type": "code",
        "colab": {}
      },
      "source": [
        "df_cleaned = data.rename({'Unnamed: 1':'object'},axis=1)\n"
      ],
      "execution_count": 0,
      "outputs": []
    },
    {
      "cell_type": "code",
      "metadata": {
        "id": "BiZZTT6DeQhk",
        "colab_type": "code",
        "colab": {}
      },
      "source": [
        "cols = ['sno','object_id','website_id','sku','url','name','brand','sizes','media','description_text','attributes','price','units','classification','created_at','updated_at']"
      ],
      "execution_count": 0,
      "outputs": []
    },
    {
      "cell_type": "code",
      "metadata": {
        "id": "D3ddet82pt-5",
        "colab_type": "code",
        "colab": {}
      },
      "source": [
        "df_cleaned.columns = cols #given column name manually"
      ],
      "execution_count": 0,
      "outputs": []
    },
    {
      "cell_type": "code",
      "metadata": {
        "id": "cwV7k1z4oLdW",
        "colab_type": "code",
        "outputId": "8e3ed543-15bc-4e58-b1db-f7ec20509788",
        "colab": {
          "base_uri": "https://localhost:8080/"
        }
      },
      "source": [
        "df_cleaned.shape"
      ],
      "execution_count": 0,
      "outputs": [
        {
          "output_type": "execute_result",
          "data": {
            "text/plain": [
              "(221452, 16)"
            ]
          },
          "metadata": {
            "tags": []
          },
          "execution_count": 533
        }
      ]
    },
    {
      "cell_type": "code",
      "metadata": {
        "id": "hdSeh0WL16lf",
        "colab_type": "code",
        "outputId": "d3c535c6-21e5-4894-c5ba-f0883f0fe107",
        "colab": {
          "base_uri": "https://localhost:8080/"
        }
      },
      "source": [
        "df_cleaned.iloc[50:55]"
      ],
      "execution_count": 0,
      "outputs": [
        {
          "output_type": "execute_result",
          "data": {
            "text/html": [
              "<div>\n",
              "<style scoped>\n",
              "    .dataframe tbody tr th:only-of-type {\n",
              "        vertical-align: middle;\n",
              "    }\n",
              "\n",
              "    .dataframe tbody tr th {\n",
              "        vertical-align: top;\n",
              "    }\n",
              "\n",
              "    .dataframe thead th {\n",
              "        text-align: right;\n",
              "    }\n",
              "</style>\n",
              "<table border=\"1\" class=\"dataframe\">\n",
              "  <thead>\n",
              "    <tr style=\"text-align: right;\">\n",
              "      <th></th>\n",
              "      <th>sno</th>\n",
              "      <th>object_id</th>\n",
              "      <th>website_id</th>\n",
              "      <th>sku</th>\n",
              "      <th>url</th>\n",
              "      <th>name</th>\n",
              "      <th>brand</th>\n",
              "      <th>sizes</th>\n",
              "      <th>media</th>\n",
              "      <th>description_text</th>\n",
              "      <th>attributes</th>\n",
              "      <th>price</th>\n",
              "      <th>units</th>\n",
              "      <th>classification</th>\n",
              "      <th>created_at</th>\n",
              "      <th>updated_at</th>\n",
              "    </tr>\n",
              "  </thead>\n",
              "  <tbody>\n",
              "    <tr>\n",
              "      <th>50</th>\n",
              "      <td>53</td>\n",
              "      <td>ObjectId(5ba6360dccb9258209cd2bd5)</td>\n",
              "      <td>ObjectId(5ba20a59c423de434b232c36)</td>\n",
              "      <td>COLOR-2298876</td>\n",
              "      <td>https://www.hervis.at/store/Bekleidung/Jacken-...</td>\n",
              "      <td>forli</td>\n",
              "      <td>{\"name\":\"kilimanjaro\",\"sub_brand\":\"\"}</td>\n",
              "      <td>[\"S\",\"M\",\"L\",\"XL\",\"XXL\",\"XXXL\"]</td>\n",
              "      <td>{\"standard\":[{\"order\":1,\"url\":\"https://cdn.her...</td>\n",
              "      <td>fashionable mens softshell jacket from kiliman...</td>\n",
              "      <td>{\"gender\":[\"male\"],\"cloth_technology\":\"softShe...</td>\n",
              "      <td>{\"offer_price\":{\"currency\":\"EUR\",\"value\":20.0}...</td>\n",
              "      <td>[{\"size\":{\"value\":\"S\"},\"stock\":{\"text\":\"\",\"ava...</td>\n",
              "      <td>{\"l1\":\"clothing\",\"l2\":\"outerwear\",\"l3\":\"coats ...</td>\n",
              "      <td>2018-09-20T00:00:59.000Z</td>\n",
              "      <td>2019-03-29T07:21:39.644Z</td>\n",
              "    </tr>\n",
              "    <tr>\n",
              "      <th>51</th>\n",
              "      <td>54</td>\n",
              "      <td>ObjectId(5ba6360fccb9258209cd2bd6)</td>\n",
              "      <td>ObjectId(5ba20a59c423de434b232c36)</td>\n",
              "      <td>COLOR-2095238</td>\n",
              "      <td>https://www.hervis.at/store/Bekleidung/Hosen-%...</td>\n",
              "      <td>dry short academy</td>\n",
              "      <td>{\"name\":\"nike\",\"sub_brand\":\"\"}</td>\n",
              "      <td>[\"XS\",\"S\",\"M\",\"L\",\"XL\"]</td>\n",
              "      <td>{\"standard\":[{\"order\":1,\"url\":\"https://cdn.her...</td>\n",
              "      <td>the nike dry short academy guarantees perfect ...</td>\n",
              "      <td>{\"topwear_length\":\"short\",\"sports\":\"training\",...</td>\n",
              "      <td>{\"offer_price\": {\"currency\": \"EUR\", \"value\": 9...</td>\n",
              "      <td>[{\"size\":{\"value\":\"XS\"},\"stock\":{\"text\":\"\",\"av...</td>\n",
              "      <td>{\"l1\":\"clothing\",\"l2\":\"bottomwear\",\"l3\":\"leggi...</td>\n",
              "      <td>2018-09-20T00:00:59.000Z</td>\n",
              "      <td>2019-03-09T05:04:10.487Z</td>\n",
              "    </tr>\n",
              "    <tr>\n",
              "      <th>52</th>\n",
              "      <td>55</td>\n",
              "      <td>NaN</td>\n",
              "      <td>ObjectId(5ba20a59c423de434b232c36)</td>\n",
              "      <td>COLOR-2201216</td>\n",
              "      <td>https://www.hervis</td>\n",
              "      <td>nordseter multi active</td>\n",
              "      <td>{\"name\":\"odlo\",\"sub_brand\":\"\"}</td>\n",
              "      <td>[\"XS\",\"S\",\"M\",\"L\",\"XL\"]</td>\n",
              "      <td>{\"standard\":[{\"order\":1,\"url\":\"https://cdn.her...</td>\n",
              "      <td>thanks to odlo's waterproof functional materia...</td>\n",
              "      <td>{\"occasion\":\"active\",\"material\":{\"name\":\"\",\"co...</td>\n",
              "      <td>{\"offer_price\":{\"currency\":\"EUR\",\"value\":64.99...</td>\n",
              "      <td>[{\"size\":{\"value\":\"XS\"},\"stock\":{\"text\":\"\",\"av...</td>\n",
              "      <td>{\"l1\":\"clothing\",\"l2\":\"outerwear\",\"l3\":\"coats ...</td>\n",
              "      <td>2018-09-20T00:00:59.000Z</td>\n",
              "      <td>2019-01-18T10:54:43.486Z</td>\n",
              "    </tr>\n",
              "    <tr>\n",
              "      <th>53</th>\n",
              "      <td>56</td>\n",
              "      <td>ObjectId(5ba63612ccb9258209cd2bd8)</td>\n",
              "      <td>ObjectId(5ba20a59c423de434b232c36)</td>\n",
              "      <td>COLOR-2070605</td>\n",
              "      <td>https://www.hervis</td>\n",
              "      <td>dry top acedemy</td>\n",
              "      <td>{\"name\":\"nike\",\"sub_brand\":\"\"}</td>\n",
              "      <td>[\"S\",\"M\",\"L\",\"XL\",\"XXL\"]</td>\n",
              "      <td>{\"standard\":[{\"order\":1,\"url\":\"https://cdn.her...</td>\n",
              "      <td>the nike dry training shirt guarantees perfect...</td>\n",
              "      <td>{\"sports\":\"training\",\"top_type\":\"shirt\",\"sleev...</td>\n",
              "      <td>{\"offer_price\": {\"currency\": \"EUR\", \"value\": 9...</td>\n",
              "      <td>[{\"size\":{\"value\":\"S\"},\"stock\":{\"text\":\"\",\"ava...</td>\n",
              "      <td>{\"l1\":\"clothing\",\"l2\":\"tops and tees and shirt...</td>\n",
              "      <td>2018-09-20T00:00:59.000Z</td>\n",
              "      <td>2019-03-29T07:21:54.942Z</td>\n",
              "    </tr>\n",
              "    <tr>\n",
              "      <th>54</th>\n",
              "      <td>57</td>\n",
              "      <td>NaN</td>\n",
              "      <td>ObjectId(5ba20a59c423de434b232c36)</td>\n",
              "      <td>COLOR-2095216</td>\n",
              "      <td>https://www.hervis</td>\n",
              "      <td>nk dry academy</td>\n",
              "      <td>{\"name\":\"nike\",\"sub_brand\":\"\"}</td>\n",
              "      <td>[\"S\",\"M\",\"L\",\"XL\",\"XXL\"]</td>\n",
              "      <td>{\"standard\":[{\"order\":1,\"url\":\"https://cdn.her...</td>\n",
              "      <td>the nike academy men's football shirt guarante...</td>\n",
              "      <td>{\"gender\":[\"male\"],\"sports\":\"football\",\"top_ty...</td>\n",
              "      <td>{\"offer_price\":{\"currency\":\"EUR\",\"value\":14.21...</td>\n",
              "      <td>[{\"size\":{\"value\":\"S\"},\"stock\":{\"text\":\"\",\"ava...</td>\n",
              "      <td>{\"l1\":\"clothing\",\"l2\":\"bottomwear\",\"l3\":\"leggi...</td>\n",
              "      <td>2018-09-20T00:00:59.000Z</td>\n",
              "      <td>2019-03-29T07:21:54.942Z</td>\n",
              "    </tr>\n",
              "  </tbody>\n",
              "</table>\n",
              "</div>"
            ],
            "text/plain": [
              "    sno                           object_id  \\\n",
              "50   53  ObjectId(5ba6360dccb9258209cd2bd5)   \n",
              "51   54  ObjectId(5ba6360fccb9258209cd2bd6)   \n",
              "52   55                                 NaN   \n",
              "53   56  ObjectId(5ba63612ccb9258209cd2bd8)   \n",
              "54   57                                 NaN   \n",
              "\n",
              "                            website_id            sku  \\\n",
              "50  ObjectId(5ba20a59c423de434b232c36)  COLOR-2298876   \n",
              "51  ObjectId(5ba20a59c423de434b232c36)  COLOR-2095238   \n",
              "52  ObjectId(5ba20a59c423de434b232c36)  COLOR-2201216   \n",
              "53  ObjectId(5ba20a59c423de434b232c36)  COLOR-2070605   \n",
              "54  ObjectId(5ba20a59c423de434b232c36)  COLOR-2095216   \n",
              "\n",
              "                                                  url                    name  \\\n",
              "50  https://www.hervis.at/store/Bekleidung/Jacken-...                   forli   \n",
              "51  https://www.hervis.at/store/Bekleidung/Hosen-%...       dry short academy   \n",
              "52                                 https://www.hervis  nordseter multi active   \n",
              "53                                 https://www.hervis         dry top acedemy   \n",
              "54                                 https://www.hervis          nk dry academy   \n",
              "\n",
              "                                    brand                            sizes  \\\n",
              "50  {\"name\":\"kilimanjaro\",\"sub_brand\":\"\"}  [\"S\",\"M\",\"L\",\"XL\",\"XXL\",\"XXXL\"]   \n",
              "51         {\"name\":\"nike\",\"sub_brand\":\"\"}          [\"XS\",\"S\",\"M\",\"L\",\"XL\"]   \n",
              "52         {\"name\":\"odlo\",\"sub_brand\":\"\"}          [\"XS\",\"S\",\"M\",\"L\",\"XL\"]   \n",
              "53         {\"name\":\"nike\",\"sub_brand\":\"\"}         [\"S\",\"M\",\"L\",\"XL\",\"XXL\"]   \n",
              "54         {\"name\":\"nike\",\"sub_brand\":\"\"}         [\"S\",\"M\",\"L\",\"XL\",\"XXL\"]   \n",
              "\n",
              "                                                media  \\\n",
              "50  {\"standard\":[{\"order\":1,\"url\":\"https://cdn.her...   \n",
              "51  {\"standard\":[{\"order\":1,\"url\":\"https://cdn.her...   \n",
              "52  {\"standard\":[{\"order\":1,\"url\":\"https://cdn.her...   \n",
              "53  {\"standard\":[{\"order\":1,\"url\":\"https://cdn.her...   \n",
              "54  {\"standard\":[{\"order\":1,\"url\":\"https://cdn.her...   \n",
              "\n",
              "                                     description_text  \\\n",
              "50  fashionable mens softshell jacket from kiliman...   \n",
              "51  the nike dry short academy guarantees perfect ...   \n",
              "52  thanks to odlo's waterproof functional materia...   \n",
              "53  the nike dry training shirt guarantees perfect...   \n",
              "54  the nike academy men's football shirt guarante...   \n",
              "\n",
              "                                           attributes  \\\n",
              "50  {\"gender\":[\"male\"],\"cloth_technology\":\"softShe...   \n",
              "51  {\"topwear_length\":\"short\",\"sports\":\"training\",...   \n",
              "52  {\"occasion\":\"active\",\"material\":{\"name\":\"\",\"co...   \n",
              "53  {\"sports\":\"training\",\"top_type\":\"shirt\",\"sleev...   \n",
              "54  {\"gender\":[\"male\"],\"sports\":\"football\",\"top_ty...   \n",
              "\n",
              "                                                price  \\\n",
              "50  {\"offer_price\":{\"currency\":\"EUR\",\"value\":20.0}...   \n",
              "51  {\"offer_price\": {\"currency\": \"EUR\", \"value\": 9...   \n",
              "52  {\"offer_price\":{\"currency\":\"EUR\",\"value\":64.99...   \n",
              "53  {\"offer_price\": {\"currency\": \"EUR\", \"value\": 9...   \n",
              "54  {\"offer_price\":{\"currency\":\"EUR\",\"value\":14.21...   \n",
              "\n",
              "                                                units  \\\n",
              "50  [{\"size\":{\"value\":\"S\"},\"stock\":{\"text\":\"\",\"ava...   \n",
              "51  [{\"size\":{\"value\":\"XS\"},\"stock\":{\"text\":\"\",\"av...   \n",
              "52  [{\"size\":{\"value\":\"XS\"},\"stock\":{\"text\":\"\",\"av...   \n",
              "53  [{\"size\":{\"value\":\"S\"},\"stock\":{\"text\":\"\",\"ava...   \n",
              "54  [{\"size\":{\"value\":\"S\"},\"stock\":{\"text\":\"\",\"ava...   \n",
              "\n",
              "                                       classification  \\\n",
              "50  {\"l1\":\"clothing\",\"l2\":\"outerwear\",\"l3\":\"coats ...   \n",
              "51  {\"l1\":\"clothing\",\"l2\":\"bottomwear\",\"l3\":\"leggi...   \n",
              "52  {\"l1\":\"clothing\",\"l2\":\"outerwear\",\"l3\":\"coats ...   \n",
              "53  {\"l1\":\"clothing\",\"l2\":\"tops and tees and shirt...   \n",
              "54  {\"l1\":\"clothing\",\"l2\":\"bottomwear\",\"l3\":\"leggi...   \n",
              "\n",
              "                  created_at                updated_at  \n",
              "50  2018-09-20T00:00:59.000Z  2019-03-29T07:21:39.644Z  \n",
              "51  2018-09-20T00:00:59.000Z  2019-03-09T05:04:10.487Z  \n",
              "52  2018-09-20T00:00:59.000Z  2019-01-18T10:54:43.486Z  \n",
              "53  2018-09-20T00:00:59.000Z  2019-03-29T07:21:54.942Z  \n",
              "54  2018-09-20T00:00:59.000Z  2019-03-29T07:21:54.942Z  "
            ]
          },
          "metadata": {
            "tags": []
          },
          "execution_count": 534
        }
      ]
    },
    {
      "cell_type": "markdown",
      "metadata": {
        "id": "gb-lqmgr3QOm",
        "colab_type": "text"
      },
      "source": [
        "####Removing records with empty \"_id\" which are invalid records."
      ]
    },
    {
      "cell_type": "code",
      "metadata": {
        "id": "L0qUrYuvyuRG",
        "colab_type": "code",
        "colab": {}
      },
      "source": [
        "df_cleaned = df_cleaned[pd.notnull(df_cleaned['object_id'])] "
      ],
      "execution_count": 0,
      "outputs": []
    },
    {
      "cell_type": "code",
      "metadata": {
        "id": "0Xwpa8X3yur6",
        "colab_type": "code",
        "outputId": "7f37e716-7e6e-4996-f252-a4581d0e2149",
        "colab": {
          "base_uri": "https://localhost:8080/"
        }
      },
      "source": [
        "df_cleaned.shape"
      ],
      "execution_count": 0,
      "outputs": [
        {
          "output_type": "execute_result",
          "data": {
            "text/plain": [
              "(220813, 16)"
            ]
          },
          "metadata": {
            "tags": []
          },
          "execution_count": 536
        }
      ]
    },
    {
      "cell_type": "code",
      "metadata": {
        "id": "PpsrdOLW1u_b",
        "colab_type": "code",
        "outputId": "282675af-59c0-4248-f6d9-d162c64d5281",
        "colab": {
          "base_uri": "https://localhost:8080/"
        }
      },
      "source": [
        "df_cleaned.iloc[50:60]"
      ],
      "execution_count": 0,
      "outputs": [
        {
          "output_type": "execute_result",
          "data": {
            "text/html": [
              "<div>\n",
              "<style scoped>\n",
              "    .dataframe tbody tr th:only-of-type {\n",
              "        vertical-align: middle;\n",
              "    }\n",
              "\n",
              "    .dataframe tbody tr th {\n",
              "        vertical-align: top;\n",
              "    }\n",
              "\n",
              "    .dataframe thead th {\n",
              "        text-align: right;\n",
              "    }\n",
              "</style>\n",
              "<table border=\"1\" class=\"dataframe\">\n",
              "  <thead>\n",
              "    <tr style=\"text-align: right;\">\n",
              "      <th></th>\n",
              "      <th>sno</th>\n",
              "      <th>object_id</th>\n",
              "      <th>website_id</th>\n",
              "      <th>sku</th>\n",
              "      <th>url</th>\n",
              "      <th>name</th>\n",
              "      <th>brand</th>\n",
              "      <th>sizes</th>\n",
              "      <th>media</th>\n",
              "      <th>description_text</th>\n",
              "      <th>attributes</th>\n",
              "      <th>price</th>\n",
              "      <th>units</th>\n",
              "      <th>classification</th>\n",
              "      <th>created_at</th>\n",
              "      <th>updated_at</th>\n",
              "    </tr>\n",
              "  </thead>\n",
              "  <tbody>\n",
              "    <tr>\n",
              "      <th>126</th>\n",
              "      <td>129</td>\n",
              "      <td>ObjectId(5ba6369cccb9258209cd2c21)</td>\n",
              "      <td>ObjectId(5ba20a59c423de434b232c36)</td>\n",
              "      <td>COLOR-2447392</td>\n",
              "      <td>NaN</td>\n",
              "      <td>trim</td>\n",
              "      <td>{\"name\":\"odlo\",\"sub_brand\":\"\"}</td>\n",
              "      <td>[\"S\",\"M\",\"L\",\"XL\",\"XXL\",\"XXXL\"]</td>\n",
              "      <td>{\"standard\":[{\"order\":1,\"url\":\"https://cdn.her...</td>\n",
              "      <td>stylish and functional piqué polo shirt for ev...</td>\n",
              "      <td>{\"top_type\":\"polo\",\"lining\":\"cotton\",\"bodywear...</td>\n",
              "      <td>{\"offer_price\": {\"currency\": \"EUR\", \"value\": 9...</td>\n",
              "      <td>[{\"size\":{\"value\":\"S\"},\"stock\":{\"text\":\"\",\"ava...</td>\n",
              "      <td>{\"l1\":\"clothing\",\"l2\":\"tops and tees and shirt...</td>\n",
              "      <td>2018-09-20T00:00:59.000Z</td>\n",
              "      <td>2019-01-24T07:29:57.448Z</td>\n",
              "    </tr>\n",
              "    <tr>\n",
              "      <th>127</th>\n",
              "      <td>130</td>\n",
              "      <td>ObjectId(5ba6369dccb9258209cd2c22)</td>\n",
              "      <td>ObjectId(5ba20a59c423de434b232c36)</td>\n",
              "      <td>COLOR-2449583</td>\n",
              "      <td>https://www.hervis.at/store/Bekleidung/Hosen-%...</td>\n",
              "      <td>wedgemount</td>\n",
              "      <td>{\"name\":\"odlo\",\"sub_brand\":\"\"}</td>\n",
              "      <td>[\"34\",\"36\",\"38\",\"40\",\"42\",\"44\",\"46\",\"48\"]</td>\n",
              "      <td>{\"standard\":[{\"order\":1,\"url\":\"https://cdn.her...</td>\n",
              "      <td>the flexible and comfortable wedgemount trouse...</td>\n",
              "      <td>{\"bottomwear_fit\":\"regular\",\"material\":{\"name\"...</td>\n",
              "      <td>{\"offer_price\":{\"currency\":\"EUR\",\"value\":59.99...</td>\n",
              "      <td>[{\"size\":{\"value\":\"34\"},\"stock\":{\"text\":\"\",\"av...</td>\n",
              "      <td>{\"l1\":\"clothing\",\"l2\":\"sportswear\",\"l3\":\"botto...</td>\n",
              "      <td>2018-09-20T00:00:59.000Z</td>\n",
              "      <td>2019-03-28T08:04:30.216Z</td>\n",
              "    </tr>\n",
              "    <tr>\n",
              "      <th>129</th>\n",
              "      <td>132</td>\n",
              "      <td>ObjectId(5ba636a2ccb9258209cd2c24)</td>\n",
              "      <td>ObjectId(5ba20a59c423de434b232c36)</td>\n",
              "      <td>COLOR-2391985</td>\n",
              "      <td>https://www.hervis</td>\n",
              "      <td>ceramicool for</td>\n",
              "      <td>{\"name\":\"odlo\",\"sub_brand\":\"\"}</td>\n",
              "      <td>[\"XS\",\"S\",\"M\",\"L\",\"XL\"]</td>\n",
              "      <td>{\"standard\":[{\"order\":1,\"url\":\"https://cdn.her...</td>\n",
              "      <td>shirt s / s crew neck ceramicool with ceramico...</td>\n",
              "      <td>{\"top_type\":\"shirt\",\"neckline\":\"crew\",\"watch_s...</td>\n",
              "      <td>{\"offer_price\":{\"currency\":\"EUR\",\"value\":29.99...</td>\n",
              "      <td>[{\"size\":{\"value\":\"XS\"},\"stock\":{\"text\":\"\",\"av...</td>\n",
              "      <td>{\"l1\":\"clothing\",\"l2\":\"laundry\",\"l3\":\"topwear\"...</td>\n",
              "      <td>2018-09-20T00:00:59.000Z</td>\n",
              "      <td>2019-03-29T07:19:09.936Z</td>\n",
              "    </tr>\n",
              "    <tr>\n",
              "      <th>134</th>\n",
              "      <td>137</td>\n",
              "      <td>ObjectId(5ba636a9ccb9258209cd2c29)</td>\n",
              "      <td>ObjectId(5ba20a59c423de434b232c36)</td>\n",
              "      <td>COLOR-2400109</td>\n",
              "      <td>https://www</td>\n",
              "      <td>shirt s/s crew neck ceramicool</td>\n",
              "      <td>{\"name\":\"odlo\",\"sub_brand\":\"\"}</td>\n",
              "      <td>[\"S\",\"M\",\"L\",\"XL\",\"XXL\"]</td>\n",
              "      <td>{\"standard\":[{\"order\":1,\"url\":\"https://cdn.her...</td>\n",
              "      <td>with the ceramicool baselayer-shirt with logo ...</td>\n",
              "      <td>{\"top_type\":\"shirt\",\"neckline\":\"crew\",\"materia...</td>\n",
              "      <td>{\"offer_price\": {\"currency\": \"EUR\", \"value\": 9...</td>\n",
              "      <td>[{\"size\":{\"value\":\"S\"},\"stock\":{\"text\":\"\",\"ava...</td>\n",
              "      <td>{\"l1\":\"clothing\",\"l2\":\"laundry\",\"l3\":\"topwear\"...</td>\n",
              "      <td>2018-09-20T00:00:59.000Z</td>\n",
              "      <td>2019-03-29T07:19:09.941Z</td>\n",
              "    </tr>\n",
              "    <tr>\n",
              "      <th>136</th>\n",
              "      <td>139</td>\n",
              "      <td>ObjectId(5ba636adccb9258209cd2c2b)</td>\n",
              "      <td>ObjectId(5ba20a59c423de434b232c36)</td>\n",
              "      <td>COLOR-2342611</td>\n",
              "      <td>https://www.hervis</td>\n",
              "      <td>yampa advanced ml hooded jacket</td>\n",
              "      <td>{\"name\":\"mammut\",\"sub_brand\":\"\"}</td>\n",
              "      <td>[\"XS\",\"S\",\"M\",\"L\",\"XL\"]</td>\n",
              "      <td>{\"standard\":[{\"order\":1,\"url\":\"https://cdn.her...</td>\n",
              "      <td>the yampa advanced ml hooded jacket women is m...</td>\n",
              "      <td>{\"gender\":[\"female\"],\"bottomwear_fit\":\"regular...</td>\n",
              "      <td>{\"offer_price\":{\"currency\":\"EUR\",\"value\":53.99...</td>\n",
              "      <td>[{\"size\":{\"value\":\"XS\"},\"stock\":{\"text\":\"\",\"av...</td>\n",
              "      <td>{\"l1\":\"clothing\",\"l2\":\"outerwear\",\"l3\":\"sweats...</td>\n",
              "      <td>2018-09-20T00:00:59.000Z</td>\n",
              "      <td>2019-03-29T07:19:13.661Z</td>\n",
              "    </tr>\n",
              "    <tr>\n",
              "      <th>141</th>\n",
              "      <td>144</td>\n",
              "      <td>ObjectId(5ba636b5ccb9258209cd2c30)</td>\n",
              "      <td>ObjectId(5ba20a59c423de434b232c36)</td>\n",
              "      <td>COLOR-2347018</td>\n",
              "      <td>https://www.hervis</td>\n",
              "      <td>manaus</td>\n",
              "      <td>{\"name\":\"vaude\",\"sub_brand\":\"\"}</td>\n",
              "      <td>[\"34\",\"36\",\"38\",\"40\",\"42\",\"44\",\"46\"]</td>\n",
              "      <td>{\"standard\":[{\"order\":1,\"url\":\"https://cdn.her...</td>\n",
              "      <td>\"fine fleece for a fresh day\" this modern flee...</td>\n",
              "      <td>{\"lining\":\"fleece\",\"aesthetics\":\"sporty\",\"mate...</td>\n",
              "      <td>{\"offer_price\": {\"currency\": \"EUR\", \"value\": 9...</td>\n",
              "      <td>[{\"size\":{\"value\":\"34\"},\"stock\":{\"text\":\"\",\"av...</td>\n",
              "      <td>{\"l1\":\"clothing\",\"l2\":\"outerwear\",\"l3\":\"sweats...</td>\n",
              "      <td>2018-09-20T00:00:59.000Z</td>\n",
              "      <td>2019-03-29T07:21:43.501Z</td>\n",
              "    </tr>\n",
              "    <tr>\n",
              "      <th>142</th>\n",
              "      <td>145</td>\n",
              "      <td>ObjectId(5ba636b7ccb9258209cd2c31)</td>\n",
              "      <td>ObjectId(5ba20a59c423de434b232c36)</td>\n",
              "      <td>COLOR-2347461</td>\n",
              "      <td>https://www</td>\n",
              "      <td>manukau park</td>\n",
              "      <td>{\"name\":\"vaude\",\"sub_brand\":\"\"}</td>\n",
              "      <td>[\"S\",\"M\",\"L\",\"XL\",\"XXL\",\"XXXL\"]</td>\n",
              "      <td>{\"standard\":[{\"order\":1,\"url\":\"https://cdn.her...</td>\n",
              "      <td>this trendy men's parka fits everyday and leis...</td>\n",
              "      <td>{\"gender\":[\"female\"],\"material\":{\"name\":\"\",\"co...</td>\n",
              "      <td>{\"offer_price\": {\"currency\": \"EUR\", \"value\": 9...</td>\n",
              "      <td>[{\"size\":{\"value\":\"S\"},\"stock\":{\"text\":\"\",\"ava...</td>\n",
              "      <td>{\"l1\":\"clothing\",\"l2\":\"outerwear\",\"l3\":\"coats ...</td>\n",
              "      <td>2018-09-20T00:00:59.000Z</td>\n",
              "      <td>2019-03-29T07:21:43.501Z</td>\n",
              "    </tr>\n",
              "    <tr>\n",
              "      <th>146</th>\n",
              "      <td>149</td>\n",
              "      <td>ObjectId(5ba636bdccb9258209cd2c35)</td>\n",
              "      <td>ObjectId(5ba20a59c423de434b232c36)</td>\n",
              "      <td>COLOR-2400069</td>\n",
              "      <td>https://www.hervis.at/store/Bekleidung/W%C3%A4...</td>\n",
              "      <td>shorts ceramicool for</td>\n",
              "      <td>{\"name\":\"odlo\",\"sub_brand\":\"\"}</td>\n",
              "      <td>[\"S\",\"M\",\"L\",\"XL\",\"XXL\"]</td>\n",
              "      <td>{\"standard\":[{\"order\":1,\"url\":\"https://cdn.her...</td>\n",
              "      <td>shorts ceramicool pro with the first active co...</td>\n",
              "      <td>{\"topwear_length\":\"short\",\"occasion\":\"active\",...</td>\n",
              "      <td>{\"offer_price\":{\"currency\":\"EUR\",\"value\":29.99...</td>\n",
              "      <td>[{\"size\":{\"value\":\"S\"},\"stock\":{\"text\":\"\",\"ava...</td>\n",
              "      <td>{\"l1\":\"clothing\",\"l2\":\"sportswear\",\"l3\":\"sport...</td>\n",
              "      <td>2018-09-20T00:00:59.000Z</td>\n",
              "      <td>2019-01-17T08:36:17.558Z</td>\n",
              "    </tr>\n",
              "    <tr>\n",
              "      <th>147</th>\n",
              "      <td>150</td>\n",
              "      <td>ObjectId(5ba636beccb9258209cd2c36)</td>\n",
              "      <td>ObjectId(5ba20a59c423de434b232c36)</td>\n",
              "      <td>COLOR-2400332</td>\n",
              "      <td>https://www.hervis</td>\n",
              "      <td>shirt s/s crew neck ceramicool</td>\n",
              "      <td>{\"name\":\"odlo\",\"sub_brand\":\"\"}</td>\n",
              "      <td>[\"S\",\"M\",\"L\",\"XL\",\"XXL\"]</td>\n",
              "      <td>{\"standard\":[{\"order\":1,\"url\":\"https://cdn.her...</td>\n",
              "      <td>with the ceramicool baselayer-shirt with logo ...</td>\n",
              "      <td>{\"top_type\":\"shirt\",\"neckline\":\"crew\",\"materia...</td>\n",
              "      <td>{\"offer_price\":{\"currency\":\"EUR\",\"value\":20.0}...</td>\n",
              "      <td>[{\"size\":{\"value\":\"S\"},\"stock\":{\"text\":\"\",\"ava...</td>\n",
              "      <td>{\"l1\":\"clothing\",\"l2\":\"laundry\",\"l3\":\"topwear\"...</td>\n",
              "      <td>2018-09-20T00:00:59.000Z</td>\n",
              "      <td>2019-03-29T07:25:22.898Z</td>\n",
              "    </tr>\n",
              "    <tr>\n",
              "      <th>148</th>\n",
              "      <td>151</td>\n",
              "      <td>ObjectId(5ba636c0ccb9258209cd2c37)</td>\n",
              "      <td>ObjectId(5ba20a59c423de434b232c36)</td>\n",
              "      <td>COLOR-2400369</td>\n",
              "      <td>NaN</td>\n",
              "      <td>boxer ceramicool</td>\n",
              "      <td>{\"name\":\"odlo\",\"sub_brand\":\"\"}</td>\n",
              "      <td>[\"S\",\"M\",\"L\",\"XL\"]</td>\n",
              "      <td>{\"standard\":[{\"order\":1,\"url\":\"https://cdn.her...</td>\n",
              "      <td>with boxer ceramicool, you can safely go up in...</td>\n",
              "      <td>{\"material\":{\"name\":\"\",\"composition\":[]},\"watc...</td>\n",
              "      <td>{\"offer_price\": {\"currency\": \"EUR\", \"value\": 9...</td>\n",
              "      <td>[{\"size\":{\"value\":\"S\"},\"stock\":{\"text\":\"\",\"ava...</td>\n",
              "      <td>{\"l1\":\"clothing\",\"l2\":\"sportswear\",\"l3\":\"sport...</td>\n",
              "      <td>2018-09-20T00:00:59.000Z</td>\n",
              "      <td>2019-03-26T04:38:13.937Z</td>\n",
              "    </tr>\n",
              "  </tbody>\n",
              "</table>\n",
              "</div>"
            ],
            "text/plain": [
              "     sno                           object_id  \\\n",
              "126  129  ObjectId(5ba6369cccb9258209cd2c21)   \n",
              "127  130  ObjectId(5ba6369dccb9258209cd2c22)   \n",
              "129  132  ObjectId(5ba636a2ccb9258209cd2c24)   \n",
              "134  137  ObjectId(5ba636a9ccb9258209cd2c29)   \n",
              "136  139  ObjectId(5ba636adccb9258209cd2c2b)   \n",
              "141  144  ObjectId(5ba636b5ccb9258209cd2c30)   \n",
              "142  145  ObjectId(5ba636b7ccb9258209cd2c31)   \n",
              "146  149  ObjectId(5ba636bdccb9258209cd2c35)   \n",
              "147  150  ObjectId(5ba636beccb9258209cd2c36)   \n",
              "148  151  ObjectId(5ba636c0ccb9258209cd2c37)   \n",
              "\n",
              "                             website_id            sku  \\\n",
              "126  ObjectId(5ba20a59c423de434b232c36)  COLOR-2447392   \n",
              "127  ObjectId(5ba20a59c423de434b232c36)  COLOR-2449583   \n",
              "129  ObjectId(5ba20a59c423de434b232c36)  COLOR-2391985   \n",
              "134  ObjectId(5ba20a59c423de434b232c36)  COLOR-2400109   \n",
              "136  ObjectId(5ba20a59c423de434b232c36)  COLOR-2342611   \n",
              "141  ObjectId(5ba20a59c423de434b232c36)  COLOR-2347018   \n",
              "142  ObjectId(5ba20a59c423de434b232c36)  COLOR-2347461   \n",
              "146  ObjectId(5ba20a59c423de434b232c36)  COLOR-2400069   \n",
              "147  ObjectId(5ba20a59c423de434b232c36)  COLOR-2400332   \n",
              "148  ObjectId(5ba20a59c423de434b232c36)  COLOR-2400369   \n",
              "\n",
              "                                                   url  \\\n",
              "126                                                NaN   \n",
              "127  https://www.hervis.at/store/Bekleidung/Hosen-%...   \n",
              "129                                 https://www.hervis   \n",
              "134                                        https://www   \n",
              "136                                 https://www.hervis   \n",
              "141                                 https://www.hervis   \n",
              "142                                        https://www   \n",
              "146  https://www.hervis.at/store/Bekleidung/W%C3%A4...   \n",
              "147                                 https://www.hervis   \n",
              "148                                                NaN   \n",
              "\n",
              "                                name                             brand  \\\n",
              "126                             trim    {\"name\":\"odlo\",\"sub_brand\":\"\"}   \n",
              "127                       wedgemount    {\"name\":\"odlo\",\"sub_brand\":\"\"}   \n",
              "129                   ceramicool for    {\"name\":\"odlo\",\"sub_brand\":\"\"}   \n",
              "134   shirt s/s crew neck ceramicool    {\"name\":\"odlo\",\"sub_brand\":\"\"}   \n",
              "136  yampa advanced ml hooded jacket  {\"name\":\"mammut\",\"sub_brand\":\"\"}   \n",
              "141                           manaus   {\"name\":\"vaude\",\"sub_brand\":\"\"}   \n",
              "142                     manukau park   {\"name\":\"vaude\",\"sub_brand\":\"\"}   \n",
              "146            shorts ceramicool for    {\"name\":\"odlo\",\"sub_brand\":\"\"}   \n",
              "147   shirt s/s crew neck ceramicool    {\"name\":\"odlo\",\"sub_brand\":\"\"}   \n",
              "148                 boxer ceramicool    {\"name\":\"odlo\",\"sub_brand\":\"\"}   \n",
              "\n",
              "                                         sizes  \\\n",
              "126            [\"S\",\"M\",\"L\",\"XL\",\"XXL\",\"XXXL\"]   \n",
              "127  [\"34\",\"36\",\"38\",\"40\",\"42\",\"44\",\"46\",\"48\"]   \n",
              "129                    [\"XS\",\"S\",\"M\",\"L\",\"XL\"]   \n",
              "134                   [\"S\",\"M\",\"L\",\"XL\",\"XXL\"]   \n",
              "136                    [\"XS\",\"S\",\"M\",\"L\",\"XL\"]   \n",
              "141       [\"34\",\"36\",\"38\",\"40\",\"42\",\"44\",\"46\"]   \n",
              "142            [\"S\",\"M\",\"L\",\"XL\",\"XXL\",\"XXXL\"]   \n",
              "146                   [\"S\",\"M\",\"L\",\"XL\",\"XXL\"]   \n",
              "147                   [\"S\",\"M\",\"L\",\"XL\",\"XXL\"]   \n",
              "148                         [\"S\",\"M\",\"L\",\"XL\"]   \n",
              "\n",
              "                                                 media  \\\n",
              "126  {\"standard\":[{\"order\":1,\"url\":\"https://cdn.her...   \n",
              "127  {\"standard\":[{\"order\":1,\"url\":\"https://cdn.her...   \n",
              "129  {\"standard\":[{\"order\":1,\"url\":\"https://cdn.her...   \n",
              "134  {\"standard\":[{\"order\":1,\"url\":\"https://cdn.her...   \n",
              "136  {\"standard\":[{\"order\":1,\"url\":\"https://cdn.her...   \n",
              "141  {\"standard\":[{\"order\":1,\"url\":\"https://cdn.her...   \n",
              "142  {\"standard\":[{\"order\":1,\"url\":\"https://cdn.her...   \n",
              "146  {\"standard\":[{\"order\":1,\"url\":\"https://cdn.her...   \n",
              "147  {\"standard\":[{\"order\":1,\"url\":\"https://cdn.her...   \n",
              "148  {\"standard\":[{\"order\":1,\"url\":\"https://cdn.her...   \n",
              "\n",
              "                                      description_text  \\\n",
              "126  stylish and functional piqué polo shirt for ev...   \n",
              "127  the flexible and comfortable wedgemount trouse...   \n",
              "129  shirt s / s crew neck ceramicool with ceramico...   \n",
              "134  with the ceramicool baselayer-shirt with logo ...   \n",
              "136  the yampa advanced ml hooded jacket women is m...   \n",
              "141  \"fine fleece for a fresh day\" this modern flee...   \n",
              "142  this trendy men's parka fits everyday and leis...   \n",
              "146  shorts ceramicool pro with the first active co...   \n",
              "147  with the ceramicool baselayer-shirt with logo ...   \n",
              "148  with boxer ceramicool, you can safely go up in...   \n",
              "\n",
              "                                            attributes  \\\n",
              "126  {\"top_type\":\"polo\",\"lining\":\"cotton\",\"bodywear...   \n",
              "127  {\"bottomwear_fit\":\"regular\",\"material\":{\"name\"...   \n",
              "129  {\"top_type\":\"shirt\",\"neckline\":\"crew\",\"watch_s...   \n",
              "134  {\"top_type\":\"shirt\",\"neckline\":\"crew\",\"materia...   \n",
              "136  {\"gender\":[\"female\"],\"bottomwear_fit\":\"regular...   \n",
              "141  {\"lining\":\"fleece\",\"aesthetics\":\"sporty\",\"mate...   \n",
              "142  {\"gender\":[\"female\"],\"material\":{\"name\":\"\",\"co...   \n",
              "146  {\"topwear_length\":\"short\",\"occasion\":\"active\",...   \n",
              "147  {\"top_type\":\"shirt\",\"neckline\":\"crew\",\"materia...   \n",
              "148  {\"material\":{\"name\":\"\",\"composition\":[]},\"watc...   \n",
              "\n",
              "                                                 price  \\\n",
              "126  {\"offer_price\": {\"currency\": \"EUR\", \"value\": 9...   \n",
              "127  {\"offer_price\":{\"currency\":\"EUR\",\"value\":59.99...   \n",
              "129  {\"offer_price\":{\"currency\":\"EUR\",\"value\":29.99...   \n",
              "134  {\"offer_price\": {\"currency\": \"EUR\", \"value\": 9...   \n",
              "136  {\"offer_price\":{\"currency\":\"EUR\",\"value\":53.99...   \n",
              "141  {\"offer_price\": {\"currency\": \"EUR\", \"value\": 9...   \n",
              "142  {\"offer_price\": {\"currency\": \"EUR\", \"value\": 9...   \n",
              "146  {\"offer_price\":{\"currency\":\"EUR\",\"value\":29.99...   \n",
              "147  {\"offer_price\":{\"currency\":\"EUR\",\"value\":20.0}...   \n",
              "148  {\"offer_price\": {\"currency\": \"EUR\", \"value\": 9...   \n",
              "\n",
              "                                                 units  \\\n",
              "126  [{\"size\":{\"value\":\"S\"},\"stock\":{\"text\":\"\",\"ava...   \n",
              "127  [{\"size\":{\"value\":\"34\"},\"stock\":{\"text\":\"\",\"av...   \n",
              "129  [{\"size\":{\"value\":\"XS\"},\"stock\":{\"text\":\"\",\"av...   \n",
              "134  [{\"size\":{\"value\":\"S\"},\"stock\":{\"text\":\"\",\"ava...   \n",
              "136  [{\"size\":{\"value\":\"XS\"},\"stock\":{\"text\":\"\",\"av...   \n",
              "141  [{\"size\":{\"value\":\"34\"},\"stock\":{\"text\":\"\",\"av...   \n",
              "142  [{\"size\":{\"value\":\"S\"},\"stock\":{\"text\":\"\",\"ava...   \n",
              "146  [{\"size\":{\"value\":\"S\"},\"stock\":{\"text\":\"\",\"ava...   \n",
              "147  [{\"size\":{\"value\":\"S\"},\"stock\":{\"text\":\"\",\"ava...   \n",
              "148  [{\"size\":{\"value\":\"S\"},\"stock\":{\"text\":\"\",\"ava...   \n",
              "\n",
              "                                        classification  \\\n",
              "126  {\"l1\":\"clothing\",\"l2\":\"tops and tees and shirt...   \n",
              "127  {\"l1\":\"clothing\",\"l2\":\"sportswear\",\"l3\":\"botto...   \n",
              "129  {\"l1\":\"clothing\",\"l2\":\"laundry\",\"l3\":\"topwear\"...   \n",
              "134  {\"l1\":\"clothing\",\"l2\":\"laundry\",\"l3\":\"topwear\"...   \n",
              "136  {\"l1\":\"clothing\",\"l2\":\"outerwear\",\"l3\":\"sweats...   \n",
              "141  {\"l1\":\"clothing\",\"l2\":\"outerwear\",\"l3\":\"sweats...   \n",
              "142  {\"l1\":\"clothing\",\"l2\":\"outerwear\",\"l3\":\"coats ...   \n",
              "146  {\"l1\":\"clothing\",\"l2\":\"sportswear\",\"l3\":\"sport...   \n",
              "147  {\"l1\":\"clothing\",\"l2\":\"laundry\",\"l3\":\"topwear\"...   \n",
              "148  {\"l1\":\"clothing\",\"l2\":\"sportswear\",\"l3\":\"sport...   \n",
              "\n",
              "                   created_at                updated_at  \n",
              "126  2018-09-20T00:00:59.000Z  2019-01-24T07:29:57.448Z  \n",
              "127  2018-09-20T00:00:59.000Z  2019-03-28T08:04:30.216Z  \n",
              "129  2018-09-20T00:00:59.000Z  2019-03-29T07:19:09.936Z  \n",
              "134  2018-09-20T00:00:59.000Z  2019-03-29T07:19:09.941Z  \n",
              "136  2018-09-20T00:00:59.000Z  2019-03-29T07:19:13.661Z  \n",
              "141  2018-09-20T00:00:59.000Z  2019-03-29T07:21:43.501Z  \n",
              "142  2018-09-20T00:00:59.000Z  2019-03-29T07:21:43.501Z  \n",
              "146  2018-09-20T00:00:59.000Z  2019-01-17T08:36:17.558Z  \n",
              "147  2018-09-20T00:00:59.000Z  2019-03-29T07:25:22.898Z  \n",
              "148  2018-09-20T00:00:59.000Z  2019-03-26T04:38:13.937Z  "
            ]
          },
          "metadata": {
            "tags": []
          },
          "execution_count": 537
        }
      ]
    },
    {
      "cell_type": "markdown",
      "metadata": {
        "id": "Ye3oUWpRcs7C",
        "colab_type": "text"
      },
      "source": [
        "*  it has 639 row which has object id is empty"
      ]
    },
    {
      "cell_type": "markdown",
      "metadata": {
        "id": "_PzQx4ZWKaXA",
        "colab_type": "text"
      },
      "source": [
        "#### Removing records with invalid \"url\" . "
      ]
    },
    {
      "cell_type": "code",
      "metadata": {
        "id": "19kb5dGAnIH_",
        "colab_type": "code",
        "colab": {}
      },
      "source": [
        "# valid_url = []\n",
        "\n",
        "# for url in df_cleaned['url']:\n",
        "#   if checkers.is_url(url) == True:\n",
        "#     valid = re.sub('https://www.hervis','',url)\n",
        "#     if valid == '':\n",
        "#       valid_url.append(np.nan)\n",
        "#     else:\n",
        "#       valid_url.append(url)\n",
        "#   else:\n",
        "#     valid_url.append(np.nan)\n",
        "  "
      ],
      "execution_count": 0,
      "outputs": []
    },
    {
      "cell_type": "code",
      "metadata": {
        "id": "PBiQ-Hqt65pk",
        "colab_type": "code",
        "colab": {}
      },
      "source": [
        "#this function check the valid url.\n",
        "#if url is valid it return url.\n",
        "#if url is not valid it return nan.\n",
        "\n",
        "def url_checker(url): \n",
        "  if checkers.is_url(url) == True:\n",
        "    valid = re.sub('https://www.hervis','',url)\n",
        "    if valid == '':\n",
        "      return np.nan\n",
        "    else:\n",
        "      return url\n",
        "  else:\n",
        "    return np.nan"
      ],
      "execution_count": 0,
      "outputs": []
    },
    {
      "cell_type": "code",
      "metadata": {
        "id": "2T_0gA-y7Ke3",
        "colab_type": "code",
        "colab": {}
      },
      "source": [
        "df_cleaned['url'] = df_cleaned['url'].map(url_checker)"
      ],
      "execution_count": 0,
      "outputs": []
    },
    {
      "cell_type": "code",
      "metadata": {
        "id": "QDSXJsA5JABe",
        "colab_type": "code",
        "colab": {}
      },
      "source": [
        "df_cleaned = df_cleaned[pd.notnull(df_cleaned['url'])] #removing row with invalid url."
      ],
      "execution_count": 0,
      "outputs": []
    },
    {
      "cell_type": "code",
      "metadata": {
        "id": "5p-_Uon_65yF",
        "colab_type": "code",
        "outputId": "1fe685d8-172b-4098-869a-246fcbcba10d",
        "colab": {
          "base_uri": "https://localhost:8080/"
        }
      },
      "source": [
        "df_cleaned.shape"
      ],
      "execution_count": 0,
      "outputs": [
        {
          "output_type": "execute_result",
          "data": {
            "text/plain": [
              "(220541, 16)"
            ]
          },
          "metadata": {
            "tags": []
          },
          "execution_count": 541
        }
      ]
    },
    {
      "cell_type": "markdown",
      "metadata": {
        "id": "PcwSZ9S2dtOp",
        "colab_type": "text"
      },
      "source": [
        "*  there are 272 row with invalid url."
      ]
    },
    {
      "cell_type": "markdown",
      "metadata": {
        "id": "V9-CSkGVLQI9",
        "colab_type": "text"
      },
      "source": [
        "####Removing  records with offer_price greater than regular price."
      ]
    },
    {
      "cell_type": "code",
      "metadata": {
        "id": "i4hMnkye5HG1",
        "colab_type": "code",
        "colab": {}
      },
      "source": [
        ""
      ],
      "execution_count": 0,
      "outputs": []
    },
    {
      "cell_type": "code",
      "metadata": {
        "id": "pqZDO9VrZHdD",
        "colab_type": "code",
        "colab": {}
      },
      "source": [
        "#this function check the offer value and regular value.\n",
        "#if there is no value it return nan value\n",
        "\n",
        "def fun(x):  \n",
        "  x = json.loads(x)\n",
        "  try:\n",
        "    num1 = x['offer_price']['value'] \n",
        "  except:\n",
        "    num1 = np.nan\n",
        "    \n",
        "  try:\n",
        "    num2 = x['regular_price']['value'] \n",
        "  except:\n",
        "    num2 = np.nan\n",
        "  return [num1,num2]\n",
        "    "
      ],
      "execution_count": 0,
      "outputs": []
    },
    {
      "cell_type": "code",
      "metadata": {
        "id": "Ed-1aYTNyua3",
        "colab_type": "code",
        "colab": {}
      },
      "source": [
        "number = df_cleaned['price'].map(fun)"
      ],
      "execution_count": 0,
      "outputs": []
    },
    {
      "cell_type": "code",
      "metadata": {
        "id": "um3gR4C-Ub9X",
        "colab_type": "code",
        "colab": {}
      },
      "source": [
        "df_cleaned['Offer_Price'] = [i[0] for i in number.to_list()] #creating new columns and add the value of offer and regular price.\n",
        "df_cleaned['Regular_Price'] = [i[1] for i in number.to_list()]"
      ],
      "execution_count": 0,
      "outputs": []
    },
    {
      "cell_type": "code",
      "metadata": {
        "id": "3SSrPJRyzyy4",
        "colab_type": "code",
        "colab": {}
      },
      "source": [
        "df_cleaned['Offer_Price'] = df_cleaned['Offer_Price'].replace(0.00,np.nan) ##replace 0 with nan\n",
        "df_cleaned['Regular_Price'] = df_cleaned['Regular_Price'].replace(0.00,np.nan)"
      ],
      "execution_count": 0,
      "outputs": []
    },
    {
      "cell_type": "code",
      "metadata": {
        "id": "Og798cyO0g_k",
        "colab_type": "code",
        "colab": {}
      },
      "source": [
        "df_cleaned = df_cleaned[pd.notnull(df_cleaned['Regular_Price'])] #removing all the value which contain nan.\n",
        "df_cleaned = df_cleaned[pd.notnull(df_cleaned['Offer_Price'])]"
      ],
      "execution_count": 0,
      "outputs": []
    },
    {
      "cell_type": "code",
      "metadata": {
        "id": "H5dfCJQrU5yR",
        "colab_type": "code",
        "colab": {}
      },
      "source": [
        "df_cleaned = df_cleaned[df_cleaned['Offer_Price']<=df_cleaned['Regular_Price']] #compair offer price and regular price and removing offer price greater then regular price"
      ],
      "execution_count": 0,
      "outputs": []
    },
    {
      "cell_type": "code",
      "metadata": {
        "id": "8p0WN3OeWDlX",
        "colab_type": "code",
        "outputId": "c31992b0-e214-4a85-fd63-69c4b7c31e7e",
        "colab": {
          "base_uri": "https://localhost:8080/"
        }
      },
      "source": [
        "df_cleaned.shape"
      ],
      "execution_count": 0,
      "outputs": [
        {
          "output_type": "execute_result",
          "data": {
            "text/plain": [
              "(218707, 18)"
            ]
          },
          "metadata": {
            "tags": []
          },
          "execution_count": 548
        }
      ]
    },
    {
      "cell_type": "code",
      "metadata": {
        "id": "CSVg5s8g90Gb",
        "colab_type": "code",
        "outputId": "c8532c29-be68-4263-f7d5-2090f301b45b",
        "colab": {
          "base_uri": "https://localhost:8080/"
        }
      },
      "source": [
        "df_cleaned.tail(5)"
      ],
      "execution_count": 0,
      "outputs": [
        {
          "output_type": "execute_result",
          "data": {
            "text/html": [
              "<div>\n",
              "<style scoped>\n",
              "    .dataframe tbody tr th:only-of-type {\n",
              "        vertical-align: middle;\n",
              "    }\n",
              "\n",
              "    .dataframe tbody tr th {\n",
              "        vertical-align: top;\n",
              "    }\n",
              "\n",
              "    .dataframe thead th {\n",
              "        text-align: right;\n",
              "    }\n",
              "</style>\n",
              "<table border=\"1\" class=\"dataframe\">\n",
              "  <thead>\n",
              "    <tr style=\"text-align: right;\">\n",
              "      <th></th>\n",
              "      <th>sno</th>\n",
              "      <th>object_id</th>\n",
              "      <th>website_id</th>\n",
              "      <th>sku</th>\n",
              "      <th>url</th>\n",
              "      <th>name</th>\n",
              "      <th>brand</th>\n",
              "      <th>sizes</th>\n",
              "      <th>media</th>\n",
              "      <th>description_text</th>\n",
              "      <th>attributes</th>\n",
              "      <th>price</th>\n",
              "      <th>units</th>\n",
              "      <th>classification</th>\n",
              "      <th>created_at</th>\n",
              "      <th>updated_at</th>\n",
              "      <th>Offer_Price</th>\n",
              "      <th>Regular_Price</th>\n",
              "    </tr>\n",
              "  </thead>\n",
              "  <tbody>\n",
              "    <tr>\n",
              "      <th>221447</th>\n",
              "      <td>221450</td>\n",
              "      <td>ObjectId(5c9f30039f19b72890f8bf3b)</td>\n",
              "      <td>ObjectId(5ba20b2cc423de434b232c3b)</td>\n",
              "      <td>577336.0</td>\n",
              "      <td>https://www.blue-tomato.com/en-AT/product/Prim...</td>\n",
              "      <td>X Dragon Ball Z Nuevo Goku Saiyan T-Shirt</td>\n",
              "      <td>{\"name\":\"primitive\",\"sub_brand\":\"\"}</td>\n",
              "      <td>[\"S\",\"M\",\"L\",\"XL\"]</td>\n",
              "      <td>{\"thumbnail\":[{\"order\":1,\"url\":\"http://images....</td>\n",
              "      <td>* Article number: 577336. * Material Specifica...</td>\n",
              "      <td>NaN</td>\n",
              "      <td>{\"offer_price\":{\"currency\":\"EUR\",\"value\":37.95...</td>\n",
              "      <td>NaN</td>\n",
              "      <td>{\"l1\":\"clothing\",\"l2\":\"outerwear\",\"l3\":\"sweats...</td>\n",
              "      <td>2019-03-30T08:59:47.935Z</td>\n",
              "      <td>2019-03-30T06:14:53.951Z</td>\n",
              "      <td>37.95</td>\n",
              "      <td>37.95</td>\n",
              "    </tr>\n",
              "    <tr>\n",
              "      <th>221448</th>\n",
              "      <td>221451</td>\n",
              "      <td>ObjectId(5c9f30099f19b72890f8bf3c)</td>\n",
              "      <td>ObjectId(5ba20b2cc423de434b232c3b)</td>\n",
              "      <td>534749.0</td>\n",
              "      <td>https://www.blue-tomato.com/en-AT/product/Unio...</td>\n",
              "      <td>Cadet 2019</td>\n",
              "      <td>{\"name\":\"union\",\"sub_brand\":\"\"}</td>\n",
              "      <td>[\"S\"]</td>\n",
              "      <td>{\"thumbnail\":[{\"order\":1,\"url\":\"http://images....</td>\n",
              "      <td>* Article number: 534749. * Riding Style: All ...</td>\n",
              "      <td>NaN</td>\n",
              "      <td>{\"offer_price\":{\"currency\":\"EUR\",\"value\":89.95...</td>\n",
              "      <td>NaN</td>\n",
              "      <td>{\"l1\":\"\",\"l2\":\"\",\"l3\":\"\",\"l4\":\"\"}</td>\n",
              "      <td>2019-03-30T08:59:53.041Z</td>\n",
              "      <td>2019-03-30T06:04:01.682Z</td>\n",
              "      <td>89.95</td>\n",
              "      <td>129.95</td>\n",
              "    </tr>\n",
              "    <tr>\n",
              "      <th>221449</th>\n",
              "      <td>221452</td>\n",
              "      <td>ObjectId(5c9f309b9f19b72890f8bf3d)</td>\n",
              "      <td>ObjectId(5ba20b2cc423de434b232c3b)</td>\n",
              "      <td>501681.0</td>\n",
              "      <td>https://www.blue-tomato.com/en-AT/product/Anim...</td>\n",
              "      <td>Pearce Bikini</td>\n",
              "      <td>{\"name\":\"animal\",\"sub_brand\":\"\"}</td>\n",
              "      <td>[\"XS\",\"S\",\"M\",\"L\"]</td>\n",
              "      <td>{\"thumbnail\":[{\"order\":1,\"url\":\"http://images....</td>\n",
              "      <td>* Article number: 501681. * Material Specifica...</td>\n",
              "      <td>NaN</td>\n",
              "      <td>{\"offer_price\":{\"currency\":\"EUR\",\"value\":24.95...</td>\n",
              "      <td>NaN</td>\n",
              "      <td>{\"l1\":\"clothing\",\"l2\":\"beachwear and swimsuits...</td>\n",
              "      <td>2019-03-30T09:02:19.039Z</td>\n",
              "      <td>2019-03-30T06:10:35.659Z</td>\n",
              "      <td>24.95</td>\n",
              "      <td>31.95</td>\n",
              "    </tr>\n",
              "    <tr>\n",
              "      <th>221450</th>\n",
              "      <td>221453</td>\n",
              "      <td>ObjectId(5c9f30a59f19b72890f8bf3e)</td>\n",
              "      <td>ObjectId(5ba20b2cc423de434b232c3b)</td>\n",
              "      <td>553334.0</td>\n",
              "      <td>https://www.blue-tomato.com/en-AT/product/Quik...</td>\n",
              "      <td>Vida Voice T-Shirt</td>\n",
              "      <td>{\"name\":\"quiksilver\",\"sub_brand\":\"\"}</td>\n",
              "      <td>[\"XS\",\"S\",\"M\",\"L\",\"XL\",\"XXL\"]</td>\n",
              "      <td>{\"thumbnail\":[{\"order\":1,\"url\":\"http://images....</td>\n",
              "      <td>* Article number: 553334. * Material Specifica...</td>\n",
              "      <td>NaN</td>\n",
              "      <td>{\"offer_price\":{\"currency\":\"EUR\",\"value\":29.95...</td>\n",
              "      <td>NaN</td>\n",
              "      <td>{\"l1\":\"clothing\",\"l2\":\"outerwear\",\"l3\":\"sweats...</td>\n",
              "      <td>2019-03-30T09:02:29.178Z</td>\n",
              "      <td>2019-03-30T06:11:37.977Z</td>\n",
              "      <td>29.95</td>\n",
              "      <td>29.95</td>\n",
              "    </tr>\n",
              "    <tr>\n",
              "      <th>221451</th>\n",
              "      <td>221454</td>\n",
              "      <td>ObjectId(5c9f30b99f19b72890f8bf3f)</td>\n",
              "      <td>ObjectId(5ba20b2cc423de434b232c3b)</td>\n",
              "      <td>551691.0</td>\n",
              "      <td>https://www.blue-tomato.com/en-AT/product/Roxy...</td>\n",
              "      <td>In My Dreams Tri Bikini</td>\n",
              "      <td>{\"name\":\"roxy\",\"sub_brand\":\"\"}</td>\n",
              "      <td>[\"T10\",\"T16\",\"T14\",\"T12\",\"T08\"]</td>\n",
              "      <td>{\"thumbnail\":[{\"order\":1,\"url\":\"http://images....</td>\n",
              "      <td>* Article number: 551691. * Material Specifica...</td>\n",
              "      <td>NaN</td>\n",
              "      <td>{\"offer_price\":{\"currency\":\"EUR\",\"value\":29.95...</td>\n",
              "      <td>NaN</td>\n",
              "      <td>{\"l1\":\"clothing\",\"l2\":\"beachwear and swimsuits...</td>\n",
              "      <td>2019-03-30T09:02:49.382Z</td>\n",
              "      <td>2019-03-30T06:03:53.908Z</td>\n",
              "      <td>29.95</td>\n",
              "      <td>29.95</td>\n",
              "    </tr>\n",
              "  </tbody>\n",
              "</table>\n",
              "</div>"
            ],
            "text/plain": [
              "           sno                           object_id  \\\n",
              "221447  221450  ObjectId(5c9f30039f19b72890f8bf3b)   \n",
              "221448  221451  ObjectId(5c9f30099f19b72890f8bf3c)   \n",
              "221449  221452  ObjectId(5c9f309b9f19b72890f8bf3d)   \n",
              "221450  221453  ObjectId(5c9f30a59f19b72890f8bf3e)   \n",
              "221451  221454  ObjectId(5c9f30b99f19b72890f8bf3f)   \n",
              "\n",
              "                                website_id       sku  \\\n",
              "221447  ObjectId(5ba20b2cc423de434b232c3b)  577336.0   \n",
              "221448  ObjectId(5ba20b2cc423de434b232c3b)  534749.0   \n",
              "221449  ObjectId(5ba20b2cc423de434b232c3b)  501681.0   \n",
              "221450  ObjectId(5ba20b2cc423de434b232c3b)  553334.0   \n",
              "221451  ObjectId(5ba20b2cc423de434b232c3b)  551691.0   \n",
              "\n",
              "                                                      url  \\\n",
              "221447  https://www.blue-tomato.com/en-AT/product/Prim...   \n",
              "221448  https://www.blue-tomato.com/en-AT/product/Unio...   \n",
              "221449  https://www.blue-tomato.com/en-AT/product/Anim...   \n",
              "221450  https://www.blue-tomato.com/en-AT/product/Quik...   \n",
              "221451  https://www.blue-tomato.com/en-AT/product/Roxy...   \n",
              "\n",
              "                                             name  \\\n",
              "221447  X Dragon Ball Z Nuevo Goku Saiyan T-Shirt   \n",
              "221448                                 Cadet 2019   \n",
              "221449                              Pearce Bikini   \n",
              "221450                         Vida Voice T-Shirt   \n",
              "221451                    In My Dreams Tri Bikini   \n",
              "\n",
              "                                       brand                            sizes  \\\n",
              "221447   {\"name\":\"primitive\",\"sub_brand\":\"\"}               [\"S\",\"M\",\"L\",\"XL\"]   \n",
              "221448       {\"name\":\"union\",\"sub_brand\":\"\"}                            [\"S\"]   \n",
              "221449      {\"name\":\"animal\",\"sub_brand\":\"\"}               [\"XS\",\"S\",\"M\",\"L\"]   \n",
              "221450  {\"name\":\"quiksilver\",\"sub_brand\":\"\"}    [\"XS\",\"S\",\"M\",\"L\",\"XL\",\"XXL\"]   \n",
              "221451        {\"name\":\"roxy\",\"sub_brand\":\"\"}  [\"T10\",\"T16\",\"T14\",\"T12\",\"T08\"]   \n",
              "\n",
              "                                                    media  \\\n",
              "221447  {\"thumbnail\":[{\"order\":1,\"url\":\"http://images....   \n",
              "221448  {\"thumbnail\":[{\"order\":1,\"url\":\"http://images....   \n",
              "221449  {\"thumbnail\":[{\"order\":1,\"url\":\"http://images....   \n",
              "221450  {\"thumbnail\":[{\"order\":1,\"url\":\"http://images....   \n",
              "221451  {\"thumbnail\":[{\"order\":1,\"url\":\"http://images....   \n",
              "\n",
              "                                         description_text attributes  \\\n",
              "221447  * Article number: 577336. * Material Specifica...        NaN   \n",
              "221448  * Article number: 534749. * Riding Style: All ...        NaN   \n",
              "221449  * Article number: 501681. * Material Specifica...        NaN   \n",
              "221450  * Article number: 553334. * Material Specifica...        NaN   \n",
              "221451  * Article number: 551691. * Material Specifica...        NaN   \n",
              "\n",
              "                                                    price units  \\\n",
              "221447  {\"offer_price\":{\"currency\":\"EUR\",\"value\":37.95...   NaN   \n",
              "221448  {\"offer_price\":{\"currency\":\"EUR\",\"value\":89.95...   NaN   \n",
              "221449  {\"offer_price\":{\"currency\":\"EUR\",\"value\":24.95...   NaN   \n",
              "221450  {\"offer_price\":{\"currency\":\"EUR\",\"value\":29.95...   NaN   \n",
              "221451  {\"offer_price\":{\"currency\":\"EUR\",\"value\":29.95...   NaN   \n",
              "\n",
              "                                           classification  \\\n",
              "221447  {\"l1\":\"clothing\",\"l2\":\"outerwear\",\"l3\":\"sweats...   \n",
              "221448                  {\"l1\":\"\",\"l2\":\"\",\"l3\":\"\",\"l4\":\"\"}   \n",
              "221449  {\"l1\":\"clothing\",\"l2\":\"beachwear and swimsuits...   \n",
              "221450  {\"l1\":\"clothing\",\"l2\":\"outerwear\",\"l3\":\"sweats...   \n",
              "221451  {\"l1\":\"clothing\",\"l2\":\"beachwear and swimsuits...   \n",
              "\n",
              "                      created_at                updated_at  Offer_Price  \\\n",
              "221447  2019-03-30T08:59:47.935Z  2019-03-30T06:14:53.951Z        37.95   \n",
              "221448  2019-03-30T08:59:53.041Z  2019-03-30T06:04:01.682Z        89.95   \n",
              "221449  2019-03-30T09:02:19.039Z  2019-03-30T06:10:35.659Z        24.95   \n",
              "221450  2019-03-30T09:02:29.178Z  2019-03-30T06:11:37.977Z        29.95   \n",
              "221451  2019-03-30T09:02:49.382Z  2019-03-30T06:03:53.908Z        29.95   \n",
              "\n",
              "        Regular_Price  \n",
              "221447          37.95  \n",
              "221448         129.95  \n",
              "221449          31.95  \n",
              "221450          29.95  \n",
              "221451          29.95  "
            ]
          },
          "metadata": {
            "tags": []
          },
          "execution_count": 549
        }
      ]
    },
    {
      "cell_type": "markdown",
      "metadata": {
        "id": "q1lOI2BpfH2P",
        "colab_type": "text"
      },
      "source": [
        "*   There are 1824 row where offer price is greater then regular pricce"
      ]
    },
    {
      "cell_type": "markdown",
      "metadata": {
        "id": "gSNt_FtZ9tq2",
        "colab_type": "text"
      },
      "source": [
        "#### removing unwanted text"
      ]
    },
    {
      "cell_type": "code",
      "metadata": {
        "id": "9MfSOm3KQonC",
        "colab_type": "code",
        "colab": {}
      },
      "source": [
        "df_cleaned.fillna(\"_\",inplace=True) #fill nan value with \"_\""
      ],
      "execution_count": 0,
      "outputs": []
    },
    {
      "cell_type": "code",
      "metadata": {
        "id": "1c1zi57TM6d8",
        "colab_type": "code",
        "colab": {}
      },
      "source": [
        "df_cleaned['brand'] = df_cleaned['brand'].str.replace('[^A-Za-z0-9]+',' ')\n",
        "df_cleaned['price'] = df_cleaned['price'].str.replace('[^A-Za-z0-9]+',' ')\n",
        "df_cleaned['sizes'] = df_cleaned['sizes'].str.replace('[^A-Za-z0-9]+',' ')\n",
        "df_cleaned['media'] = df_cleaned['media'].str.replace('[^A-Za-z0-9]+',' ')\n",
        "df_cleaned['description_text'] = df_cleaned['description_text'].str.replace('[^A-Za-z0-9]+',' ')\n",
        "df_cleaned['attributes'] = df_cleaned['attributes'].str.replace('[^A-Za-z0-9]+',' ')\n",
        "df_cleaned['units'] = df_cleaned['units'].str.replace('[^A-Za-z0-9]+',' ')\n",
        "df_cleaned['classification'] =  df_cleaned['classification'].str.replace('[^A-Za-z0-9]+',' ')\n",
        "df_cleaned['classification'] = df_cleaned['classification'].str.replace('l','')"
      ],
      "execution_count": 0,
      "outputs": []
    },
    {
      "cell_type": "code",
      "metadata": {
        "id": "xT_xgeWNBgB1",
        "colab_type": "code",
        "outputId": "4edd28c9-5030-4438-ae9a-163e5e8d716b",
        "colab": {
          "base_uri": "https://localhost:8080/"
        }
      },
      "source": [
        "df_cleaned.iloc[5799:5810]"
      ],
      "execution_count": 0,
      "outputs": [
        {
          "output_type": "execute_result",
          "data": {
            "text/html": [
              "<div>\n",
              "<style scoped>\n",
              "    .dataframe tbody tr th:only-of-type {\n",
              "        vertical-align: middle;\n",
              "    }\n",
              "\n",
              "    .dataframe tbody tr th {\n",
              "        vertical-align: top;\n",
              "    }\n",
              "\n",
              "    .dataframe thead th {\n",
              "        text-align: right;\n",
              "    }\n",
              "</style>\n",
              "<table border=\"1\" class=\"dataframe\">\n",
              "  <thead>\n",
              "    <tr style=\"text-align: right;\">\n",
              "      <th></th>\n",
              "      <th>sno</th>\n",
              "      <th>object_id</th>\n",
              "      <th>website_id</th>\n",
              "      <th>sku</th>\n",
              "      <th>url</th>\n",
              "      <th>name</th>\n",
              "      <th>brand</th>\n",
              "      <th>sizes</th>\n",
              "      <th>media</th>\n",
              "      <th>description_text</th>\n",
              "      <th>attributes</th>\n",
              "      <th>price</th>\n",
              "      <th>units</th>\n",
              "      <th>classification</th>\n",
              "      <th>created_at</th>\n",
              "      <th>updated_at</th>\n",
              "      <th>Offer_Price</th>\n",
              "      <th>Regular_Price</th>\n",
              "    </tr>\n",
              "  </thead>\n",
              "  <tbody>\n",
              "    <tr>\n",
              "      <th>6746</th>\n",
              "      <td>6749</td>\n",
              "      <td>ObjectId(5ba6677eccb9258209cd45fd)</td>\n",
              "      <td>ObjectId(5ba20a59c423de434b232c36)</td>\n",
              "      <td>COLOR-2137297</td>\n",
              "      <td>https://www.hervis.at/store/Schuhe/Outdoor--%2...</td>\n",
              "      <td>the cedar ridge convert</td>\n",
              "      <td>name merrell sub brand</td>\n",
              "      <td>41 42 43 44 45 46 47</td>\n",
              "      <td>standard order 1 url https cdn hervis at medi...</td>\n",
              "      <td>comfortable to wear men s leisure sandals sohl...</td>\n",
              "      <td>watch strap type ridge bottomwear fit comfort...</td>\n",
              "      <td>offer price currency EUR value 49 99 regular ...</td>\n",
              "      <td>size value 41 stock text available true size ...</td>\n",
              "      <td>1 footwear 2 sandas 3 outdoor sandas 4</td>\n",
              "      <td>2018-09-20T00:00:59.000Z</td>\n",
              "      <td>2019-03-29T07:18:44.229Z</td>\n",
              "      <td>49.99</td>\n",
              "      <td>69.99</td>\n",
              "    </tr>\n",
              "    <tr>\n",
              "      <th>6747</th>\n",
              "      <td>6750</td>\n",
              "      <td>ObjectId(5ba6677fccb9258209cd45fe)</td>\n",
              "      <td>ObjectId(5ba20a59c423de434b232c36)</td>\n",
              "      <td>COLOR-2173754</td>\n",
              "      <td>https://www.hervis.at/store/Schuhe/Winterschuh...</td>\n",
              "      <td>cruzano gtx anthracite</td>\n",
              "      <td>name salomon sub brand</td>\n",
              "      <td>36 36 2 3 37 1 3 38 38 2 3 39 1 3 40 40 2 3 4...</td>\n",
              "      <td>standard order 1 url https cdn hervis at medi...</td>\n",
              "      <td>the cruzano winter boot with gore tex membrane...</td>\n",
              "      <td>season winter material name composition sleev...</td>\n",
              "      <td>offer price currency EUR value 79 99 regular ...</td>\n",
              "      <td>size value 36 stock text available true size ...</td>\n",
              "      <td>1 footwear 2 shoes 3 boots 4 winter boots</td>\n",
              "      <td>2018-09-20T00:00:59.000Z</td>\n",
              "      <td>2019-03-29T07:18:44.231Z</td>\n",
              "      <td>79.99</td>\n",
              "      <td>149.99</td>\n",
              "    </tr>\n",
              "    <tr>\n",
              "      <th>6748</th>\n",
              "      <td>6751</td>\n",
              "      <td>ObjectId(5ba66781ccb9258209cd45ff)</td>\n",
              "      <td>ObjectId(5ba20a59c423de434b232c36)</td>\n",
              "      <td>COLOR-2094554</td>\n",
              "      <td>https://www.hervis.at/store/Schuhe/Laufschuhe/...</td>\n",
              "      <td>xt weeze</td>\n",
              "      <td>name salomon sub brand</td>\n",
              "      <td>40 40 2 3 41 1 3 42 42 2 3 43 1 3 44 44 2 3 4...</td>\n",
              "      <td>standard order 1 url https cdn hervis at medi...</td>\n",
              "      <td>the salomon xt weeze mens running shoe in blac...</td>\n",
              "      <td>gender male special group activewear color bl...</td>\n",
              "      <td>offer price currency EUR value 59 99 regular ...</td>\n",
              "      <td>size value 40 stock text available false size...</td>\n",
              "      <td>1 footwear 2 shoes 3 athetic shoes 4 running</td>\n",
              "      <td>2018-09-20T00:00:59.000Z</td>\n",
              "      <td>2019-03-25T05:37:46.143Z</td>\n",
              "      <td>59.99</td>\n",
              "      <td>129.99</td>\n",
              "    </tr>\n",
              "    <tr>\n",
              "      <th>6749</th>\n",
              "      <td>6752</td>\n",
              "      <td>ObjectId(5ba66784ccb9258209cd4600)</td>\n",
              "      <td>ObjectId(5ba20a59c423de434b232c36)</td>\n",
              "      <td>COLOR-2245047</td>\n",
              "      <td>https://www.hervis.at/store/Schuhe/Outdoor--%2...</td>\n",
              "      <td>terrex ax2r gtx</td>\n",
              "      <td>name adidas sub brand</td>\n",
              "      <td>41 1 3 42 42 2 3 43 1 3 44 44 2 3 45 1 3 46 4...</td>\n",
              "      <td>standard order 1 url https cdn hervis at medi...</td>\n",
              "      <td>this outdoor shoe makes every adventure in the...</td>\n",
              "      <td>occasion outdoor material name composition wa...</td>\n",
              "      <td>offer price currency EUR value 99 99 regular ...</td>\n",
              "      <td>size value 41 1 3 stock text available true s...</td>\n",
              "      <td>1 footwear 2 shoes 3 outdoor shoes 4 hiking a...</td>\n",
              "      <td>2018-09-20T00:00:59.000Z</td>\n",
              "      <td>2019-03-29T07:18:49.200Z</td>\n",
              "      <td>99.99</td>\n",
              "      <td>119.99</td>\n",
              "    </tr>\n",
              "    <tr>\n",
              "      <th>6750</th>\n",
              "      <td>6753</td>\n",
              "      <td>ObjectId(5ba66786ccb9258209cd4601)</td>\n",
              "      <td>ObjectId(5ba20a59c423de434b232c36)</td>\n",
              "      <td>COLOR-1970504</td>\n",
              "      <td>https://www.hervis.at/store/Schuhe/Outdoor--%2...</td>\n",
              "      <td>boat gtx mid</td>\n",
              "      <td>name lowa sub brand</td>\n",
              "      <td>36 37 37 5 38 38 5 39 40 40 5 41 42</td>\n",
              "      <td>standard order 1 url https cdn hervis at medi...</td>\n",
              "      <td>the lowa barca gtx mid is a classic among the ...</td>\n",
              "      <td>aesthetics classic lining suede material name...</td>\n",
              "      <td>offer price currency EUR value 80 0 regular p...</td>\n",
              "      <td>size value 36 stock text available false size...</td>\n",
              "      <td>1 footwear 2 shoes 3 outdoor shoes 4 hiking a...</td>\n",
              "      <td>2018-09-20T00:00:59.000Z</td>\n",
              "      <td>2019-03-20T04:09:50.049Z</td>\n",
              "      <td>80.00</td>\n",
              "      <td>149.99</td>\n",
              "    </tr>\n",
              "    <tr>\n",
              "      <th>6751</th>\n",
              "      <td>6754</td>\n",
              "      <td>ObjectId(5ba66788ccb9258209cd4602)</td>\n",
              "      <td>ObjectId(5ba20a59c423de434b232c36)</td>\n",
              "      <td>COLOR-1604581</td>\n",
              "      <td>https://www.hervis.at/store/Schuhe/Eissportsch...</td>\n",
              "      <td>eve bs</td>\n",
              "      <td>name fila sub brand</td>\n",
              "      <td>35 5 36 37 37 5 38 38 5 39 40 40 5 41 42 42 5...</td>\n",
              "      <td>standard order 1 url https cdn hervis at medi...</td>\n",
              "      <td>comfortable to wear lightweight and high quali...</td>\n",
              "      <td>bottomwear fit comfortable gender female fill...</td>\n",
              "      <td>offer price currency EUR value 69 99 regular ...</td>\n",
              "      <td>size value 35 5 stock text available true siz...</td>\n",
              "      <td>1 footwear 2 shoes 3 athetic shoes 4 skate an...</td>\n",
              "      <td>2018-09-20T00:00:59.000Z</td>\n",
              "      <td>2018-11-05T05:59:36.087Z</td>\n",
              "      <td>69.99</td>\n",
              "      <td>69.99</td>\n",
              "    </tr>\n",
              "    <tr>\n",
              "      <th>6752</th>\n",
              "      <td>6755</td>\n",
              "      <td>ObjectId(5ba6678accb9258209cd4603)</td>\n",
              "      <td>ObjectId(5ba20a59c423de434b232c36)</td>\n",
              "      <td>COLOR-2008760</td>\n",
              "      <td>https://www.hervis.at/store/Schuhe/Laufschuhe/...</td>\n",
              "      <td>ultra raptor gtx</td>\n",
              "      <td>name la sportiva sub brand</td>\n",
              "      <td>39 40 5 41 42 43 43 5 44 45 46 46 5 47 47 5 48</td>\n",
              "      <td>standard order 1 url https cdn hervis at medi...</td>\n",
              "      <td>the ultra raptor gtx is suitable for trails ul...</td>\n",
              "      <td>topwear length long material name composition...</td>\n",
              "      <td>offer price currency EUR value 179 99 regular...</td>\n",
              "      <td>size value 39 stock text available false size...</td>\n",
              "      <td>1 footwear 2 shoes 3 athetic shoes 4 running</td>\n",
              "      <td>2018-09-20T00:00:59.000Z</td>\n",
              "      <td>2019-03-29T07:18:49.197Z</td>\n",
              "      <td>179.99</td>\n",
              "      <td>179.99</td>\n",
              "    </tr>\n",
              "    <tr>\n",
              "      <th>6753</th>\n",
              "      <td>6756</td>\n",
              "      <td>ObjectId(5ba6678bccb9258209cd4604)</td>\n",
              "      <td>ObjectId(5ba20a59c423de434b232c36)</td>\n",
              "      <td>COLOR-2149184</td>\n",
              "      <td>https://www.hervis.at/store/Schuhe/Outdoor--%2...</td>\n",
              "      <td>dakota</td>\n",
              "      <td>name kilimanjaro sub brand</td>\n",
              "      <td>36 37 38 39 40</td>\n",
              "      <td>standard order 1 url https cdn hervis at medi...</td>\n",
              "      <td>strong children s hiking shoe with quick lacin...</td>\n",
              "      <td>sports hiking dress type slip dress lining te...</td>\n",
              "      <td>offer price currency EUR value 44 99 regular ...</td>\n",
              "      <td>size value 36 stock text available true size ...</td>\n",
              "      <td>1 footwear 2 shoes 3 outdoor shoes 4 hiking a...</td>\n",
              "      <td>2018-09-20T00:00:59.000Z</td>\n",
              "      <td>2019-03-29T07:18:49.200Z</td>\n",
              "      <td>44.99</td>\n",
              "      <td>64.99</td>\n",
              "    </tr>\n",
              "    <tr>\n",
              "      <th>6754</th>\n",
              "      <td>6757</td>\n",
              "      <td>ObjectId(5ba6678eccb9258209cd4605)</td>\n",
              "      <td>ObjectId(5ba20a59c423de434b232c36)</td>\n",
              "      <td>COLOR-2067943</td>\n",
              "      <td>https://www.hervis.at/store/Schuhe/Tennisschuh...</td>\n",
              "      <td>propels clay</td>\n",
              "      <td>name babolat sub brand</td>\n",
              "      <td>40 5 41 42 42 5 43 44 44 5 45 45 5 46 47 47 5...</td>\n",
              "      <td>standard order 1 url https cdn hervis at medi...</td>\n",
              "      <td>thanks to the foot belt and ti fit this tennis...</td>\n",
              "      <td>clothing closure type belt sports tennis mate...</td>\n",
              "      <td>offer price currency EUR value 54 99 regular ...</td>\n",
              "      <td>size value 40 5 stock text available true siz...</td>\n",
              "      <td>1 footwear 2 shoes 3 athetic shoes 4 tennis a...</td>\n",
              "      <td>2018-09-20T00:00:59.000Z</td>\n",
              "      <td>2019-01-27T07:00:28.484Z</td>\n",
              "      <td>54.99</td>\n",
              "      <td>119.99</td>\n",
              "    </tr>\n",
              "    <tr>\n",
              "      <th>6755</th>\n",
              "      <td>6758</td>\n",
              "      <td>ObjectId(5ba6678fccb9258209cd4606)</td>\n",
              "      <td>ObjectId(5ba20a59c423de434b232c36)</td>\n",
              "      <td>COLOR-2163352</td>\n",
              "      <td>https://www.hervis.at/store/Schuhe/Laufschuhe/...</td>\n",
              "      <td>sense ride</td>\n",
              "      <td>name salomon sub brand</td>\n",
              "      <td>40 40 2 3 41 1 3 42 42 2 3 43 1 3 44 44 2 3 4...</td>\n",
              "      <td>standard order 1 url https cdn hervis at medi...</td>\n",
              "      <td>the sense ride running shoe offers sufficient ...</td>\n",
              "      <td>special group activewear material name compos...</td>\n",
              "      <td>offer price currency EUR value 79 99 regular ...</td>\n",
              "      <td>size value 40 stock text available false size...</td>\n",
              "      <td>1 footwear 2 shoes 3 athetic shoes 4 running</td>\n",
              "      <td>2018-09-20T00:00:59.000Z</td>\n",
              "      <td>2019-03-29T07:18:47.550Z</td>\n",
              "      <td>79.99</td>\n",
              "      <td>129.99</td>\n",
              "    </tr>\n",
              "    <tr>\n",
              "      <th>6756</th>\n",
              "      <td>6759</td>\n",
              "      <td>ObjectId(5ba66791ccb9258209cd4607)</td>\n",
              "      <td>ObjectId(5ba20a59c423de434b232c36)</td>\n",
              "      <td>COLOR-2159101</td>\n",
              "      <td>https://www.hervis.at/store/Schuhe/Schuhzubeh%...</td>\n",
              "      <td>comfort s7 high</td>\n",
              "      <td>name bootdoc sub brand</td>\n",
              "      <td>36 5 38 39 40 5 42 43 44 5 46 47</td>\n",
              "      <td>standard order 1 url https cdn hervis at medi...</td>\n",
              "      <td>top model in the 3 arch concept especially for...</td>\n",
              "      <td>season winter special group activewear fillin...</td>\n",
              "      <td>offer price currency EUR value 49 99 regular ...</td>\n",
              "      <td>size value 36 5 stock text available true siz...</td>\n",
              "      <td>1 accessories 2 shoe accessories 3 soes and f...</td>\n",
              "      <td>2018-09-20T00:00:59.000Z</td>\n",
              "      <td>2018-11-11T05:45:36.921Z</td>\n",
              "      <td>49.99</td>\n",
              "      <td>49.99</td>\n",
              "    </tr>\n",
              "  </tbody>\n",
              "</table>\n",
              "</div>"
            ],
            "text/plain": [
              "       sno                           object_id  \\\n",
              "6746  6749  ObjectId(5ba6677eccb9258209cd45fd)   \n",
              "6747  6750  ObjectId(5ba6677fccb9258209cd45fe)   \n",
              "6748  6751  ObjectId(5ba66781ccb9258209cd45ff)   \n",
              "6749  6752  ObjectId(5ba66784ccb9258209cd4600)   \n",
              "6750  6753  ObjectId(5ba66786ccb9258209cd4601)   \n",
              "6751  6754  ObjectId(5ba66788ccb9258209cd4602)   \n",
              "6752  6755  ObjectId(5ba6678accb9258209cd4603)   \n",
              "6753  6756  ObjectId(5ba6678bccb9258209cd4604)   \n",
              "6754  6757  ObjectId(5ba6678eccb9258209cd4605)   \n",
              "6755  6758  ObjectId(5ba6678fccb9258209cd4606)   \n",
              "6756  6759  ObjectId(5ba66791ccb9258209cd4607)   \n",
              "\n",
              "                              website_id            sku  \\\n",
              "6746  ObjectId(5ba20a59c423de434b232c36)  COLOR-2137297   \n",
              "6747  ObjectId(5ba20a59c423de434b232c36)  COLOR-2173754   \n",
              "6748  ObjectId(5ba20a59c423de434b232c36)  COLOR-2094554   \n",
              "6749  ObjectId(5ba20a59c423de434b232c36)  COLOR-2245047   \n",
              "6750  ObjectId(5ba20a59c423de434b232c36)  COLOR-1970504   \n",
              "6751  ObjectId(5ba20a59c423de434b232c36)  COLOR-1604581   \n",
              "6752  ObjectId(5ba20a59c423de434b232c36)  COLOR-2008760   \n",
              "6753  ObjectId(5ba20a59c423de434b232c36)  COLOR-2149184   \n",
              "6754  ObjectId(5ba20a59c423de434b232c36)  COLOR-2067943   \n",
              "6755  ObjectId(5ba20a59c423de434b232c36)  COLOR-2163352   \n",
              "6756  ObjectId(5ba20a59c423de434b232c36)  COLOR-2159101   \n",
              "\n",
              "                                                    url  \\\n",
              "6746  https://www.hervis.at/store/Schuhe/Outdoor--%2...   \n",
              "6747  https://www.hervis.at/store/Schuhe/Winterschuh...   \n",
              "6748  https://www.hervis.at/store/Schuhe/Laufschuhe/...   \n",
              "6749  https://www.hervis.at/store/Schuhe/Outdoor--%2...   \n",
              "6750  https://www.hervis.at/store/Schuhe/Outdoor--%2...   \n",
              "6751  https://www.hervis.at/store/Schuhe/Eissportsch...   \n",
              "6752  https://www.hervis.at/store/Schuhe/Laufschuhe/...   \n",
              "6753  https://www.hervis.at/store/Schuhe/Outdoor--%2...   \n",
              "6754  https://www.hervis.at/store/Schuhe/Tennisschuh...   \n",
              "6755  https://www.hervis.at/store/Schuhe/Laufschuhe/...   \n",
              "6756  https://www.hervis.at/store/Schuhe/Schuhzubeh%...   \n",
              "\n",
              "                         name                         brand  \\\n",
              "6746  the cedar ridge convert       name merrell sub brand    \n",
              "6747   cruzano gtx anthracite       name salomon sub brand    \n",
              "6748                 xt weeze       name salomon sub brand    \n",
              "6749          terrex ax2r gtx        name adidas sub brand    \n",
              "6750             boat gtx mid          name lowa sub brand    \n",
              "6751                   eve bs          name fila sub brand    \n",
              "6752         ultra raptor gtx   name la sportiva sub brand    \n",
              "6753                   dakota   name kilimanjaro sub brand    \n",
              "6754             propels clay       name babolat sub brand    \n",
              "6755               sense ride       name salomon sub brand    \n",
              "6756          comfort s7 high       name bootdoc sub brand    \n",
              "\n",
              "                                                  sizes  \\\n",
              "6746                              41 42 43 44 45 46 47    \n",
              "6747   36 36 2 3 37 1 3 38 38 2 3 39 1 3 40 40 2 3 4...   \n",
              "6748   40 40 2 3 41 1 3 42 42 2 3 43 1 3 44 44 2 3 4...   \n",
              "6749   41 1 3 42 42 2 3 43 1 3 44 44 2 3 45 1 3 46 4...   \n",
              "6750               36 37 37 5 38 38 5 39 40 40 5 41 42    \n",
              "6751   35 5 36 37 37 5 38 38 5 39 40 40 5 41 42 42 5...   \n",
              "6752    39 40 5 41 42 43 43 5 44 45 46 46 5 47 47 5 48    \n",
              "6753                                    36 37 38 39 40    \n",
              "6754   40 5 41 42 42 5 43 44 44 5 45 45 5 46 47 47 5...   \n",
              "6755   40 40 2 3 41 1 3 42 42 2 3 43 1 3 44 44 2 3 4...   \n",
              "6756                  36 5 38 39 40 5 42 43 44 5 46 47    \n",
              "\n",
              "                                                  media  \\\n",
              "6746   standard order 1 url https cdn hervis at medi...   \n",
              "6747   standard order 1 url https cdn hervis at medi...   \n",
              "6748   standard order 1 url https cdn hervis at medi...   \n",
              "6749   standard order 1 url https cdn hervis at medi...   \n",
              "6750   standard order 1 url https cdn hervis at medi...   \n",
              "6751   standard order 1 url https cdn hervis at medi...   \n",
              "6752   standard order 1 url https cdn hervis at medi...   \n",
              "6753   standard order 1 url https cdn hervis at medi...   \n",
              "6754   standard order 1 url https cdn hervis at medi...   \n",
              "6755   standard order 1 url https cdn hervis at medi...   \n",
              "6756   standard order 1 url https cdn hervis at medi...   \n",
              "\n",
              "                                       description_text  \\\n",
              "6746  comfortable to wear men s leisure sandals sohl...   \n",
              "6747  the cruzano winter boot with gore tex membrane...   \n",
              "6748  the salomon xt weeze mens running shoe in blac...   \n",
              "6749  this outdoor shoe makes every adventure in the...   \n",
              "6750  the lowa barca gtx mid is a classic among the ...   \n",
              "6751  comfortable to wear lightweight and high quali...   \n",
              "6752  the ultra raptor gtx is suitable for trails ul...   \n",
              "6753  strong children s hiking shoe with quick lacin...   \n",
              "6754  thanks to the foot belt and ti fit this tennis...   \n",
              "6755  the sense ride running shoe offers sufficient ...   \n",
              "6756  top model in the 3 arch concept especially for...   \n",
              "\n",
              "                                             attributes  \\\n",
              "6746   watch strap type ridge bottomwear fit comfort...   \n",
              "6747   season winter material name composition sleev...   \n",
              "6748   gender male special group activewear color bl...   \n",
              "6749   occasion outdoor material name composition wa...   \n",
              "6750   aesthetics classic lining suede material name...   \n",
              "6751   bottomwear fit comfortable gender female fill...   \n",
              "6752   topwear length long material name composition...   \n",
              "6753   sports hiking dress type slip dress lining te...   \n",
              "6754   clothing closure type belt sports tennis mate...   \n",
              "6755   special group activewear material name compos...   \n",
              "6756   season winter special group activewear fillin...   \n",
              "\n",
              "                                                  price  \\\n",
              "6746   offer price currency EUR value 49 99 regular ...   \n",
              "6747   offer price currency EUR value 79 99 regular ...   \n",
              "6748   offer price currency EUR value 59 99 regular ...   \n",
              "6749   offer price currency EUR value 99 99 regular ...   \n",
              "6750   offer price currency EUR value 80 0 regular p...   \n",
              "6751   offer price currency EUR value 69 99 regular ...   \n",
              "6752   offer price currency EUR value 179 99 regular...   \n",
              "6753   offer price currency EUR value 44 99 regular ...   \n",
              "6754   offer price currency EUR value 54 99 regular ...   \n",
              "6755   offer price currency EUR value 79 99 regular ...   \n",
              "6756   offer price currency EUR value 49 99 regular ...   \n",
              "\n",
              "                                                  units  \\\n",
              "6746   size value 41 stock text available true size ...   \n",
              "6747   size value 36 stock text available true size ...   \n",
              "6748   size value 40 stock text available false size...   \n",
              "6749   size value 41 1 3 stock text available true s...   \n",
              "6750   size value 36 stock text available false size...   \n",
              "6751   size value 35 5 stock text available true siz...   \n",
              "6752   size value 39 stock text available false size...   \n",
              "6753   size value 36 stock text available true size ...   \n",
              "6754   size value 40 5 stock text available true siz...   \n",
              "6755   size value 40 stock text available false size...   \n",
              "6756   size value 36 5 stock text available true siz...   \n",
              "\n",
              "                                         classification  \\\n",
              "6746            1 footwear 2 sandas 3 outdoor sandas 4    \n",
              "6747         1 footwear 2 shoes 3 boots 4 winter boots    \n",
              "6748      1 footwear 2 shoes 3 athetic shoes 4 running    \n",
              "6749   1 footwear 2 shoes 3 outdoor shoes 4 hiking a...   \n",
              "6750   1 footwear 2 shoes 3 outdoor shoes 4 hiking a...   \n",
              "6751   1 footwear 2 shoes 3 athetic shoes 4 skate an...   \n",
              "6752      1 footwear 2 shoes 3 athetic shoes 4 running    \n",
              "6753   1 footwear 2 shoes 3 outdoor shoes 4 hiking a...   \n",
              "6754   1 footwear 2 shoes 3 athetic shoes 4 tennis a...   \n",
              "6755      1 footwear 2 shoes 3 athetic shoes 4 running    \n",
              "6756   1 accessories 2 shoe accessories 3 soes and f...   \n",
              "\n",
              "                    created_at                updated_at  Offer_Price  \\\n",
              "6746  2018-09-20T00:00:59.000Z  2019-03-29T07:18:44.229Z        49.99   \n",
              "6747  2018-09-20T00:00:59.000Z  2019-03-29T07:18:44.231Z        79.99   \n",
              "6748  2018-09-20T00:00:59.000Z  2019-03-25T05:37:46.143Z        59.99   \n",
              "6749  2018-09-20T00:00:59.000Z  2019-03-29T07:18:49.200Z        99.99   \n",
              "6750  2018-09-20T00:00:59.000Z  2019-03-20T04:09:50.049Z        80.00   \n",
              "6751  2018-09-20T00:00:59.000Z  2018-11-05T05:59:36.087Z        69.99   \n",
              "6752  2018-09-20T00:00:59.000Z  2019-03-29T07:18:49.197Z       179.99   \n",
              "6753  2018-09-20T00:00:59.000Z  2019-03-29T07:18:49.200Z        44.99   \n",
              "6754  2018-09-20T00:00:59.000Z  2019-01-27T07:00:28.484Z        54.99   \n",
              "6755  2018-09-20T00:00:59.000Z  2019-03-29T07:18:47.550Z        79.99   \n",
              "6756  2018-09-20T00:00:59.000Z  2018-11-11T05:45:36.921Z        49.99   \n",
              "\n",
              "      Regular_Price  \n",
              "6746          69.99  \n",
              "6747         149.99  \n",
              "6748         129.99  \n",
              "6749         119.99  \n",
              "6750         149.99  \n",
              "6751          69.99  \n",
              "6752         179.99  \n",
              "6753          64.99  \n",
              "6754         119.99  \n",
              "6755         129.99  \n",
              "6756          49.99  "
            ]
          },
          "metadata": {
            "tags": []
          },
          "execution_count": 552
        }
      ]
    },
    {
      "cell_type": "markdown",
      "metadata": {
        "id": "ljjkcQRN8JdE",
        "colab_type": "text"
      },
      "source": [
        "#### Identifing outliers"
      ]
    },
    {
      "cell_type": "code",
      "metadata": {
        "id": "8AoBKgknNBW1",
        "colab_type": "code",
        "outputId": "2f4e7d6d-efc6-4823-902f-6303e00b7863",
        "colab": {
          "base_uri": "https://localhost:8080/",
          "height": 301
        }
      },
      "source": [
        "df_cleaned.plot(kind='scatter',x='Offer_Price',y='Regular_Price',color='red')"
      ],
      "execution_count": 0,
      "outputs": [
        {
          "output_type": "execute_result",
          "data": {
            "text/plain": [
              "<matplotlib.axes._subplots.AxesSubplot at 0x7f561f1bc6a0>"
            ]
          },
          "metadata": {
            "tags": []
          },
          "execution_count": 553
        },
        {
          "output_type": "display_data",
          "data": {
            "image/png": "[encoded data removed]",
            "text/plain": [
              "<Figure size 432x288 with 1 Axes>"
            ]
          },
          "metadata": {
            "tags": []
          }
        }
      ]
    },
    {
      "cell_type": "code",
      "metadata": {
        "id": "hOWpC-UDVvgg",
        "colab_type": "code",
        "outputId": "ff297df7-14cb-425f-cea4-74e756f2eb72",
        "colab": {
          "base_uri": "https://localhost:8080/",
          "height": 301
        }
      },
      "source": [
        "sns.boxplot(x=df_cleaned['Offer_Price'])"
      ],
      "execution_count": 0,
      "outputs": [
        {
          "output_type": "execute_result",
          "data": {
            "text/plain": [
              "<matplotlib.axes._subplots.AxesSubplot at 0x7f561f232ef0>"
            ]
          },
          "metadata": {
            "tags": []
          },
          "execution_count": 554
        },
        {
          "output_type": "display_data",
          "data": {
            "image/png": "[encoded data removed]",
            "text/plain": [
              "<Figure size 432x288 with 1 Axes>"
            ]
          },
          "metadata": {
            "tags": []
          }
        }
      ]
    },
    {
      "cell_type": "code",
      "metadata": {
        "id": "tBDR7xke9g6S",
        "colab_type": "code",
        "outputId": "5b00c6bc-0ecb-49cc-ec69-3a7911566ab0",
        "colab": {
          "base_uri": "https://localhost:8080/",
          "height": 301
        }
      },
      "source": [
        "sns.boxplot(x=df_cleaned['Regular_Price'])"
      ],
      "execution_count": 0,
      "outputs": [
        {
          "output_type": "execute_result",
          "data": {
            "text/plain": [
              "<matplotlib.axes._subplots.AxesSubplot at 0x7f56085b6be0>"
            ]
          },
          "metadata": {
            "tags": []
          },
          "execution_count": 555
        },
        {
          "output_type": "display_data",
          "data": {
            "image/png": "[encoded data removed]",
            "text/plain": [
              "<Figure size 432x288 with 1 Axes>"
            ]
          },
          "metadata": {
            "tags": []
          }
        }
      ]
    },
    {
      "cell_type": "code",
      "metadata": {
        "id": "UlXahn5BC8Lk",
        "colab_type": "code",
        "outputId": "4c5f59b1-d267-4d11-f6a3-fd142b90d5c8",
        "colab": {
          "base_uri": "https://localhost:8080/",
          "height": 297
        }
      },
      "source": [
        "df_cleaned.describe()"
      ],
      "execution_count": 0,
      "outputs": [
        {
          "output_type": "execute_result",
          "data": {
            "text/html": [
              "<div>\n",
              "<style scoped>\n",
              "    .dataframe tbody tr th:only-of-type {\n",
              "        vertical-align: middle;\n",
              "    }\n",
              "\n",
              "    .dataframe tbody tr th {\n",
              "        vertical-align: top;\n",
              "    }\n",
              "\n",
              "    .dataframe thead th {\n",
              "        text-align: right;\n",
              "    }\n",
              "</style>\n",
              "<table border=\"1\" class=\"dataframe\">\n",
              "  <thead>\n",
              "    <tr style=\"text-align: right;\">\n",
              "      <th></th>\n",
              "      <th>sno</th>\n",
              "      <th>Offer_Price</th>\n",
              "      <th>Regular_Price</th>\n",
              "    </tr>\n",
              "  </thead>\n",
              "  <tbody>\n",
              "    <tr>\n",
              "      <th>count</th>\n",
              "      <td>218707.000000</td>\n",
              "      <td>218707.000000</td>\n",
              "      <td>218707.000000</td>\n",
              "    </tr>\n",
              "    <tr>\n",
              "      <th>mean</th>\n",
              "      <td>111394.840234</td>\n",
              "      <td>102.487921</td>\n",
              "      <td>120.819759</td>\n",
              "    </tr>\n",
              "    <tr>\n",
              "      <th>std</th>\n",
              "      <td>63663.696776</td>\n",
              "      <td>336.361434</td>\n",
              "      <td>349.545431</td>\n",
              "    </tr>\n",
              "    <tr>\n",
              "      <th>min</th>\n",
              "      <td>20.000000</td>\n",
              "      <td>0.900000</td>\n",
              "      <td>0.900000</td>\n",
              "    </tr>\n",
              "    <tr>\n",
              "      <th>25%</th>\n",
              "      <td>56324.500000</td>\n",
              "      <td>29.950000</td>\n",
              "      <td>34.950000</td>\n",
              "    </tr>\n",
              "    <tr>\n",
              "      <th>50%</th>\n",
              "      <td>111184.000000</td>\n",
              "      <td>52.400000</td>\n",
              "      <td>65.000000</td>\n",
              "    </tr>\n",
              "    <tr>\n",
              "      <th>75%</th>\n",
              "      <td>166664.500000</td>\n",
              "      <td>99.950000</td>\n",
              "      <td>129.000000</td>\n",
              "    </tr>\n",
              "    <tr>\n",
              "      <th>max</th>\n",
              "      <td>221454.000000</td>\n",
              "      <td>54995.000000</td>\n",
              "      <td>54995.000000</td>\n",
              "    </tr>\n",
              "  </tbody>\n",
              "</table>\n",
              "</div>"
            ],
            "text/plain": [
              "                 sno    Offer_Price  Regular_Price\n",
              "count  218707.000000  218707.000000  218707.000000\n",
              "mean   111394.840234     102.487921     120.819759\n",
              "std     63663.696776     336.361434     349.545431\n",
              "min        20.000000       0.900000       0.900000\n",
              "25%     56324.500000      29.950000      34.950000\n",
              "50%    111184.000000      52.400000      65.000000\n",
              "75%    166664.500000      99.950000     129.000000\n",
              "max    221454.000000   54995.000000   54995.000000"
            ]
          },
          "metadata": {
            "tags": []
          },
          "execution_count": 556
        }
      ]
    },
    {
      "cell_type": "code",
      "metadata": {
        "id": "FBKTNAgd8F98",
        "colab_type": "code",
        "outputId": "57c37c07-4487-4b57-dbcf-b8a1943aad53",
        "colab": {
          "base_uri": "https://localhost:8080/",
          "height": 51
        }
      },
      "source": [
        "print(\"99th percentile of Regular_price : \", np.percentile(df_cleaned['Regular_Price'],99))\n",
        "print(\"99th percentile of Offer_price \", np.percentile(df_cleaned['Offer_Price'],99)) "
      ],
      "execution_count": 0,
      "outputs": [
        {
          "output_type": "stream",
          "text": [
            "99th percentile of Regular_price :  748.95\n",
            "99th percentile of Offer_price  679.95\n"
          ],
          "name": "stdout"
        }
      ]
    },
    {
      "cell_type": "code",
      "metadata": {
        "id": "88nUQqGK9orp",
        "colab_type": "code",
        "colab": {}
      },
      "source": [
        "df_cleaned = df_cleaned[df_cleaned['Offer_Price']<= np.percentile(df_cleaned['Offer_Price'],99)]\n",
        "df_cleaned = df_cleaned[df_cleaned['Regular_Price']<=np.percentile(df_cleaned['Regular_Price'],99)]"
      ],
      "execution_count": 0,
      "outputs": []
    },
    {
      "cell_type": "code",
      "metadata": {
        "id": "bIwte-Xj-2Fq",
        "colab_type": "code",
        "outputId": "a1a416a7-2be3-4430-fae3-39ba8938ec95",
        "colab": {
          "base_uri": "https://localhost:8080/",
          "height": 34
        }
      },
      "source": [
        "df_cleaned.shape"
      ],
      "execution_count": 0,
      "outputs": [
        {
          "output_type": "execute_result",
          "data": {
            "text/plain": [
              "(214495, 18)"
            ]
          },
          "metadata": {
            "tags": []
          },
          "execution_count": 559
        }
      ]
    },
    {
      "cell_type": "markdown",
      "metadata": {
        "id": "7jz_qGOJhPov",
        "colab_type": "text"
      },
      "source": [
        "*    As we see that there are many value which are outlier. there are 4212 value which are greater then 99 percentile"
      ]
    },
    {
      "cell_type": "code",
      "metadata": {
        "id": "ZsXRA9gA_6i_",
        "colab_type": "code",
        "outputId": "3f052e96-b7b3-4331-d84c-9c8de051c097",
        "colab": {
          "base_uri": "https://localhost:8080/",
          "height": 301
        }
      },
      "source": [
        "df_cleaned.plot(kind='scatter',x='Offer_Price',y='Regular_Price',color='red')"
      ],
      "execution_count": 0,
      "outputs": [
        {
          "output_type": "execute_result",
          "data": {
            "text/plain": [
              "<matplotlib.axes._subplots.AxesSubplot at 0x7f560ae00630>"
            ]
          },
          "metadata": {
            "tags": []
          },
          "execution_count": 560
        },
        {
          "output_type": "display_data",
          "data": {
            "image/png": "[encoded data removed]",
            "text/plain": [
              "<Figure size 432x288 with 1 Axes>"
            ]
          },
          "metadata": {
            "tags": []
          }
        }
      ]
    },
    {
      "cell_type": "code",
      "metadata": {
        "id": "f0wmaem5_v7U",
        "colab_type": "code",
        "outputId": "0350fc53-0568-4e11-913f-fccb1b37a60b",
        "colab": {
          "base_uri": "https://localhost:8080/",
          "height": 301
        }
      },
      "source": [
        "sns.boxplot(x=df_cleaned['Regular_Price'])"
      ],
      "execution_count": 0,
      "outputs": [
        {
          "output_type": "execute_result",
          "data": {
            "text/plain": [
              "<matplotlib.axes._subplots.AxesSubplot at 0x7f560ad59400>"
            ]
          },
          "metadata": {
            "tags": []
          },
          "execution_count": 561
        },
        {
          "output_type": "display_data",
          "data": {
            "image/png": "[encoded data removed]",
            "text/plain": [
              "<Figure size 432x288 with 1 Axes>"
            ]
          },
          "metadata": {
            "tags": []
          }
        }
      ]
    },
    {
      "cell_type": "code",
      "metadata": {
        "id": "MuT4VWZdAJ3V",
        "colab_type": "code",
        "outputId": "29a9ab4d-6f6a-4043-9dd3-f67047b1173b",
        "colab": {
          "base_uri": "https://localhost:8080/",
          "height": 301
        }
      },
      "source": [
        "sns.boxplot(x=df_cleaned['Offer_Price'])"
      ],
      "execution_count": 0,
      "outputs": [
        {
          "output_type": "execute_result",
          "data": {
            "text/plain": [
              "<matplotlib.axes._subplots.AxesSubplot at 0x7f560ad39a90>"
            ]
          },
          "metadata": {
            "tags": []
          },
          "execution_count": 562
        },
        {
          "output_type": "display_data",
          "data": {
            "image/png": "[encoded data removed]",
            "text/plain": [
              "<Figure size 432x288 with 1 Axes>"
            ]
          },
          "metadata": {
            "tags": []
          }
        }
      ]
    },
    {
      "cell_type": "code",
      "metadata": {
        "colab_type": "code",
        "outputId": "ff54adda-f097-4fb2-c33b-4347b8dc85e8",
        "id": "J3K9f6IvaaF3",
        "colab": {
          "base_uri": "https://localhost:8080/",
          "height": 270
        }
      },
      "source": [
        "plt.hist(df_cleaned['Regular_Price'], facecolor='blue', alpha=0.5)\n",
        "plt.show()"
      ],
      "execution_count": 0,
      "outputs": [
        {
          "output_type": "display_data",
          "data": {
            "image/png": "[encoded data removed]",
            "text/plain": [
              "<Figure size 432x288 with 1 Axes>"
            ]
          },
          "metadata": {
            "tags": []
          }
        }
      ]
    },
    {
      "cell_type": "code",
      "metadata": {
        "colab_type": "code",
        "outputId": "4eb5a063-b368-4955-9263-35e8a7016a30",
        "id": "qkkkGwBIaaFX",
        "colab": {
          "base_uri": "https://localhost:8080/",
          "height": 269
        }
      },
      "source": [
        "plt.hist(df_cleaned['Offer_Price'], facecolor='blue', alpha=0.5)\n",
        "plt.show()"
      ],
      "execution_count": 0,
      "outputs": [
        {
          "output_type": "display_data",
          "data": {
            "image/png": "[encoded data removed]",
            "text/plain": [
              "<Figure size 432x288 with 1 Axes>"
            ]
          },
          "metadata": {
            "tags": []
          }
        }
      ]
    },
    {
      "cell_type": "markdown",
      "metadata": {
        "id": "NMVCLW7fdLkI",
        "colab_type": "text"
      },
      "source": [
        "#### Conclusion\n",
        "\n",
        "*    The maximum Offer price 54995 EUR which is outlier as we see in graph.\n",
        "*    Appox 110,000 amount of data has price less than 50 EUR and very less amount of data has price greater or equal to 500 EUR.\n",
        "*    99th percentile of Offer price   is  679.95. and 99th percentile of Regular price is 748.95. that mean that the product price range is not more then 800 as per the data."
      ]
    }
  ]
}